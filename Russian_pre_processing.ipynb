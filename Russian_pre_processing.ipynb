{
 "cells": [
  {
   "cell_type": "markdown",
   "metadata": {
    "editable": true
   },
   "source": [
    "# Preparation of data for Russian nballs construction"
   ]
  },
  {
   "cell_type": "markdown",
   "metadata": {
    "editable": true
   },
   "source": [
    "To prepare data for Russian nballs construction we need to:\n",
    "* convert tsv file with Russian word2vec to txt form\n",
    "* create catcode file\n",
    "* create word-sense-children file"
   ]
  },
  {
   "cell_type": "markdown",
   "metadata": {},
   "source": [
    "## Pre-processing of word2vec file"
   ]
  },
  {
   "cell_type": "markdown",
   "metadata": {},
   "source": [
    "[Pre-trained Russian word2vec](https://github.com/Kyubyong/wordvectors) was used as features. Please, download zip with Russian word2vec [here](https://drive.google.com/file/d/0B0ZXk88koS2KMUJxZ0w0WjRGdnc/view) manually or by the commands:"
   ]
  },
  {
   "cell_type": "code",
   "execution_count": 128,
   "metadata": {
    "collapsed": false
   },
   "outputs": [
    {
     "name": "stdout",
     "output_type": "stream",
     "text": [
      "File ru.zip is saved to the current directory\n"
     ]
    }
   ],
   "source": [
    "%%script bash\n",
    "export filename=ru.zip\n",
    "export fileid=0B0ZXk88koS2KMUJxZ0w0WjRGdnc\n",
    "wget -q --save-cookies cookies.txt 'https://docs.google.com/uc?export=download&id='$fileid -O-      | sed -rn 's/.*confirm=([0-9A-Za-z_]+).*/\\1/p' > confirm.txt \n",
    "wget -q --load-cookies cookies.txt -O $filename      'https://docs.google.com/uc?export=download&id='$fileid'&confirm='$(<confirm.txt)\n",
    "echo -e \"File ru.zip is saved to the current directory\""
   ]
  },
  {
   "cell_type": "markdown",
   "metadata": {},
   "source": [
    "When file ru.zip is downloaded, extract files and make sure that file ru.tsv is saved in the current directory. This is a original file with features that will be converted to txt form. "
   ]
  },
  {
   "cell_type": "code",
   "execution_count": 132,
   "metadata": {
    "collapsed": false
   },
   "outputs": [
    {
     "name": "stdout",
     "output_type": "stream",
     "text": [
      "Archive:  ru.zip\n",
      "  inflating: ru.bin                  \n",
      "  inflating: ru.tsv                  \n",
      "  inflating: ru.bin.syn1neg.npy      \n",
      "  inflating: ru.bin.syn0.npy         \n"
     ]
    }
   ],
   "source": [
    "! unzip ru.zip"
   ]
  },
  {
   "cell_type": "markdown",
   "metadata": {},
   "source": [
    "The following step will convert tsv file to txt form. Here is the [python program](https://github.com/valerie94/russian_nballs/blob/master/format_w2v_file.py) which is used for the step below. "
   ]
  },
  {
   "cell_type": "code",
   "execution_count": 144,
   "metadata": {
    "collapsed": false
   },
   "outputs": [],
   "source": [
    "! python russian_nballs/format_w2v_file.py"
   ]
  },
  {
   "cell_type": "markdown",
   "metadata": {},
   "source": [
    "# Installation of Russian wordnet\n",
    "To istall the [Russian wordnet](https://wiki-ru-wordnet.readthedocs.io/en/latest/) run the following lines:"
   ]
  },
  {
   "cell_type": "code",
   "execution_count": 133,
   "metadata": {
    "collapsed": true
   },
   "outputs": [],
   "source": [
    "from wiki_ru_wordnet import WikiWordnet\n",
    "#the Russian wordnet package which is used\n",
    "wikiwordnet = WikiWordnet()"
   ]
  },
  {
   "cell_type": "markdown",
   "metadata": {},
   "source": [
    "Example of usage: Find parents and children for word \"математика\" (mathematics)."
   ]
  },
  {
   "cell_type": "code",
   "execution_count": 145,
   "metadata": {
    "collapsed": false
   },
   "outputs": [
    {
     "name": "stdout",
     "output_type": "stream",
     "text": [
      "Parents\n",
      "{'точная наука'}\n",
      "Children\n",
      "{'комбинаторная логика'}\n",
      "{'логистика'}\n",
      "{'комбинаторика'}\n",
      "{'комбинаторная математика', 'комбинаторный анализ'}\n",
      "{'арифметика'}\n",
      "{'геометрия'}\n",
      "{'алгебра'}\n"
     ]
    }
   ],
   "source": [
    "synsets = wikiwordnet.get_synsets('математика') #get synsets for word 'язык' in Russian\n",
    "synset1 = synsets[0]  #there are several meaning of this word, choose, for example, third one\n",
    "print(\"Parents\")\n",
    "for hypernym in wikiwordnet.get_hypernyms(synset1): \n",
    "    print({w.lemma() for w in hypernym.get_words()}) #print parents (hypernyms) of this word\n",
    "print(\"Children\")\n",
    "for hyponym in wikiwordnet.get_hyponyms(synset1):\n",
    "    print({w.lemma() for w in hyponym.get_words()}) #print children of this word"
   ]
  },
  {
   "cell_type": "markdown",
   "metadata": {},
   "source": [
    "Parents: 'точная наука' (exact science)\n",
    "\n",
    "Children: 'комбинаторная логика' (combinatorial logic), 'логистика' (logistics), 'комбинаторика' (combinatorics), 'комбинаторная математика' (combinatorial mathematics), 'комбинаторный анализ' (combinatorial analysis), 'арифметика' (arithmetic), 'геометрия' (geometry), 'алгебра' (algebra).\n",
    "\n",
    "It should be noted that wordnet has errors. For example, word 'шайба' (puck - small disk which is used while playing ice hockey) has parent 'снаряд' (which has several meanings like sport equipment and projectile (a missile designed to be fired from a rocket or gun)). This word's parent is 'боеприпас' (ammunition) since authors of wordnet didn't separate the word senses. By logic of this wordnet, ice hockey puck and some other sport equipment like trampoline, hoop and tennis racquet are types of military ammunition which is not true. \n",
    "\n",
    "These errors are ignored since they can not be detected automatically and require re-processing of entire wordnet by native speaker or expert."
   ]
  },
  {
   "cell_type": "markdown",
   "metadata": {},
   "source": [
    "# Creation of catcode file and word sense children"
   ]
  },
  {
   "cell_type": "markdown",
   "metadata": {},
   "source": [
    "Not all words from Russian wordnet have word2vec features and, vice versa, not all words which have word2vec features are in the wordnet. \n",
    "\n",
    "Another problem, some words have several meanings and, therefore, have different instances in wordnet. \n",
    "\n",
    "To keep track of Russian words that contained both wordnet and word2vec model and to assign them indices, we create file idx.dat. This file contains information about word-sense index in the new data base and it's definition (in Russian) according to the vocabulary as well as index of synset in wordnet."
   ]
  },
  {
   "cell_type": "code",
   "execution_count": 146,
   "metadata": {
    "collapsed": false
   },
   "outputs": [],
   "source": [
    "index_file = open(\"idx.dat\", \"w\")\n",
    "w2v_file = open(\"ru_w2v.txt\")\n",
    "idx = 2 #start with index 2 because index 1 is reserved for *root*\n",
    "idx_dict = {} # key index value definition of the word\n",
    "word_dict = {} # key word, value all indexes of different meanings (word senses)\n",
    "for line in w2v_file:\n",
    "    line = line.split(\" \")\n",
    "    word = line[0]\n",
    "    synsets = wikiwordnet.get_synsets(word) # get different meanings of word\n",
    "    if len(synsets) > 0: # if word in wordnet\n",
    "        num_of_sense = 0 # initialize counter for first sense of the word\n",
    "        for syn in synsets: # loop through all word senses\n",
    "            for w in syn.get_words():\n",
    "                if w.lemma() == word:\n",
    "                    index_file.write(str(idx) + \" \" + word + ' ' + str(num_of_sense) + \" \" + w.definition() + \"\\n\") #create the entry in index file\n",
    "                    if word not in word_dict:\n",
    "                        word_dict[word] = []\n",
    "\n",
    "                    word_dict[word].append(idx)\n",
    "                    idx_dict[idx] = w.definition()\n",
    "                    idx += 1\n",
    "            num_of_sense += 1\n",
    "index_file.close()\n",
    "w2v_file.close()"
   ]
  },
  {
   "cell_type": "markdown",
   "metadata": {},
   "source": [
    "Please, note that some word-sense in the base repeated several times (errors in wordnet) causing same word-sense with one definition to have several indices in new data base. This repetitions will be deleted later."
   ]
  },
  {
   "cell_type": "markdown",
   "metadata": {},
   "source": [
    "The following code will create dictionary structure where key is a index of word and value is the index of it's parent as well as dictionary with key as index and value is word.n.number_of_word_sense. Note, that word can have several parents in wordnet but we select only one parent in order to preserve tree structure."
   ]
  },
  {
   "cell_type": "code",
   "execution_count": 147,
   "metadata": {
    "collapsed": false
   },
   "outputs": [],
   "source": [
    "parent_dict = {}\n",
    "i2w = {} #key index value word.n.number_of_word_sense\n",
    "idx_file = open(\"idx.dat\", 'r')\n",
    "for line in idx_file:\n",
    "    l_array = line.split(\" \")\n",
    "    idx = l_array[0]\n",
    "    if idx.isdigit(): #sometimes definitions of word senses more than 1 line\n",
    "        word = l_array[1] #\n",
    "        syn_num = l_array[2] #number of word sense (number of corresponding synset)\n",
    "        i2w[int(idx)] = word + \".n.\" + syn_num #word unique identifier word.n.word_sense_number\n",
    "        synsets = wikiwordnet.get_synsets(word)\n",
    "        syn = synsets[int(syn_num)]\n",
    "        children = []\n",
    "        for hypernym in wikiwordnet.get_hypernyms(syn): #loop through parent synsets\n",
    "            for w in hypernym.get_words(): #loop through parent words\n",
    "                parent_word = w.lemma()\n",
    "                d = w.definition() # get definition of the parent\n",
    "                if parent_word in word_dict:\n",
    "                    for i in word_dict[parent_word]:\n",
    "                        if idx_dict[i] == d: #get index of parent word by finding it's definition which is unique\n",
    "                            parent_dict[int(idx)] = i # select one parent\n",
    "\n",
    "idx_file.close()"
   ]
  },
  {
   "cell_type": "markdown",
   "metadata": {},
   "source": [
    "Next line of codes create a dictionary where word is a key and value is array of it's children. If value array is empty then word has no children."
   ]
  },
  {
   "cell_type": "code",
   "execution_count": 148,
   "metadata": {
    "collapsed": false
   },
   "outputs": [],
   "source": [
    "child_dict = {}\n",
    "for i in idx_dict:\n",
    "    word = i2w[i]\n",
    "    child_dict[word] = [] #create array of children for each word_sense\n",
    "for par in parent_dict:\n",
    "    word_idx = par\n",
    "    word = i2w[word_idx]\n",
    "    parent_idx = parent_dict[par]\n",
    "    parent_word = i2w[parent_idx] #get parent word\n",
    "    if word not in child_dict[parent_word]:\n",
    "        child_dict[parent_word].append(word) #write word to the children list of it's parent"
   ]
  },
  {
   "cell_type": "markdown",
   "metadata": {},
   "source": [
    "The following function is used for recursive search of word parents in order to make catcode since we need indices of all parents until the root."
   ]
  },
  {
   "cell_type": "code",
   "execution_count": 149,
   "metadata": {
    "collapsed": false
   },
   "outputs": [],
   "source": [
    "def add_parent(idx): #function which returns index of the parent\n",
    "    if idx in parent_dict:\n",
    "        return parent_dict[idx]\n",
    "    else:\n",
    "        return 1"
   ]
  },
  {
   "cell_type": "markdown",
   "metadata": {},
   "source": [
    "Finally, we can create catcode file:"
   ]
  },
  {
   "cell_type": "code",
   "execution_count": 150,
   "metadata": {
    "collapsed": false
   },
   "outputs": [],
   "source": [
    "catcode_file = open(\"catcode.dat\", \"w\")\n",
    "for i in idx_dict:\n",
    "    word = i2w[i]\n",
    "    catcode_file.write(word) #write word to file\n",
    "    idx = i\n",
    "    parents = []\n",
    "    while idx != 1: #recursively get parents\n",
    "        p_idx = add_parent(idx)\n",
    "        parents.append(p_idx)\n",
    "        idx = p_idx\n",
    "    parents = parents[::-1] #inverse the order from the root to leaves\n",
    "    length = len(parents)\n",
    "    array = [0] * (17 - length)\n",
    "    parents.extend(array) #get missing zeros to get the standard 17-length format\n",
    "    for p in parents:\n",
    "        catcode_file.write(\" \" + str(p))\n",
    "    catcode_file.write(\"\\n\")\n",
    "catcode_file.close()"
   ]
  },
  {
   "cell_type": "markdown",
   "metadata": {},
   "source": [
    "And we create file with word sense children"
   ]
  },
  {
   "cell_type": "code",
   "execution_count": 151,
   "metadata": {
    "collapsed": false
   },
   "outputs": [],
   "source": [
    "word_sense_children_file = open(\"children.dat\", \"w\")\n",
    "child_dict[\"*root*\"] = [] #add root for the correct format\n",
    "for i in idx_dict:\n",
    "    if i not in parent_dict: #word has no parent\n",
    "        if i2w[i] not in child_dict[\"*root*\"]: #and not in the children of root yet\n",
    "            child_dict[\"*root*\"].append(i2w[i]) #add it to the children of root\n",
    "word_sense_children_file.write(\"*root*\")\n",
    "for c in child_dict[\"*root*\"]:\n",
    "     word_sense_children_file.write(\" \" + c)\n",
    "word_sense_children_file.write(\"\\n\")\n",
    "for i in idx_dict:\n",
    "    word = i2w[i]\n",
    "    word_sense_children_file.write(word)\n",
    "    for c in child_dict[word]:\n",
    "        word_sense_children_file.write(\" \" + c)\n",
    "    word_sense_children_file.write(\"\\n\") #write children of word in one line\n",
    "word_sense_children_file.close()"
   ]
  },
  {
   "cell_type": "markdown",
   "metadata": {},
   "source": [
    "The following function is used to solve problem of repititions of same word sense with several indices:"
   ]
  },
  {
   "cell_type": "code",
   "execution_count": 152,
   "metadata": {
    "collapsed": true
   },
   "outputs": [],
   "source": [
    "def delete_repititions(file_name): #in wordnet some words in synset repeat, which causes duplication in file. This function deletes duplicate lines of given file\n",
    "    with open(file_name, 'r') as source_file:\n",
    "        lines = []\n",
    "        for line in source_file:\n",
    "            if line not in lines:\n",
    "                lines.append(line)\n",
    "        new_file = open(file_name + \"_no_duplicates\", 'w')\n",
    "        new_file.writelines(lines)\n",
    "        new_file.close()\n",
    "    source_file.close()"
   ]
  },
  {
   "cell_type": "code",
   "execution_count": 153,
   "metadata": {
    "collapsed": true
   },
   "outputs": [],
   "source": [
    "delete_repititions(\"catcode.dat\")\n",
    "delete_repititions(\"children.dat\")"
   ]
  },
  {
   "cell_type": "markdown",
   "metadata": {},
   "source": [
    "Finally, we get all required files to train Russian nballs: catcode file, word sense children file and word2vec file."
   ]
  }
 ],
 "metadata": {
  "celltoolbar": "Edit Metadata",
  "editable": true,
  "kernelspec": {
   "display_name": "Python 3",
   "language": "python",
   "name": "python3"
  },
  "language_info": {
   "codemirror_mode": {
    "name": "ipython",
    "version": 3
   },
   "file_extension": ".py",
   "mimetype": "text/x-python",
   "name": "python",
   "nbconvert_exporter": "python",
   "pygments_lexer": "ipython3",
   "version": "3.6.0"
  }
 },
 "nbformat": 4,
 "nbformat_minor": 2
}

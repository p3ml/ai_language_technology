{
 "cells": [
  {
   "cell_type": "markdown",
   "metadata": {
    "editable": true
   },
   "source": [
    "# Training Russian nballs\n",
    "To train russian nballs the following sources were used:\n",
    "* [Russian wordnet](https://wiki-ru-wordnet.readthedocs.io/en/latest/)\n",
    "* [Pre-trained Russian word2vec](https://github.com/Kyubyong/wordvectors)\n",
    "\n",
    "You can install Russian wordnet by the following command:"
   ]
  },
  {
   "cell_type": "code",
   "execution_count": 1,
   "metadata": {
    "collapsed": false
   },
   "outputs": [
    {
     "name": "stdout",
     "output_type": "stream",
     "text": [
      "Requirement already satisfied: wiki-ru-wordnet in /home/vm/anaconda3/lib/python3.6/site-packages (1.0.3)\n",
      "\u001b[33mYou are using pip version 19.0.1, however version 19.1.1 is available.\n",
      "You should consider upgrading via the 'pip install --upgrade pip' command.\u001b[0m\n"
     ]
    }
   ],
   "source": [
    "! pip install wiki-ru-wordnet"
   ]
  },
  {
   "cell_type": "markdown",
   "metadata": {},
   "source": [
    "Next step is to download zip with Russian word2vec [here](https://drive.google.com/file/d/0B0ZXk88koS2KMUJxZ0w0WjRGdnc/view) manually or by the commands:"
   ]
  },
  {
   "cell_type": "code",
   "execution_count": 2,
   "metadata": {
    "collapsed": false,
    "scrolled": false
   },
   "outputs": [
    {
     "name": "stdout",
     "output_type": "stream",
     "text": [
      "File ru.zip is saved to the current directory\n"
     ]
    }
   ],
   "source": [
    "%%script bash\n",
    "export filename=ru.zip\n",
    "export fileid=0B0ZXk88koS2KMUJxZ0w0WjRGdnc\n",
    "wget -q --save-cookies cookies.txt 'https://docs.google.com/uc?export=download&id='$fileid -O-      | sed -rn 's/.*confirm=([0-9A-Za-z_]+).*/\\1/p' > confirm.txt \n",
    "wget -q --load-cookies cookies.txt -O $filename      'https://docs.google.com/uc?export=download&id='$fileid'&confirm='$(<confirm.txt)\n",
    "echo -e \"File ru.zip is saved to the current directory\""
   ]
  },
  {
   "cell_type": "markdown",
   "metadata": {},
   "source": [
    "Extract file ru.tsv. The file contains word2vec features for 50101 words in Russian language."
   ]
  },
  {
   "cell_type": "code",
   "execution_count": 3,
   "metadata": {
    "collapsed": false
   },
   "outputs": [
    {
     "name": "stdout",
     "output_type": "stream",
     "text": [
      "Archive:  ru.zip\n",
      "  inflating: ru.bin                  \n",
      "  inflating: ru.tsv                  \n",
      "  inflating: ru.bin.syn1neg.npy      \n",
      "  inflating: ru.bin.syn0.npy         \n"
     ]
    }
   ],
   "source": [
    "! unzip ru.zip"
   ]
  },
  {
   "cell_type": "markdown",
   "metadata": {},
   "source": [
    "Then please clone project training Russian nballs from the following [github repository](https://github.com/valerie94/russian_nballs)."
   ]
  },
  {
   "cell_type": "code",
   "execution_count": 4,
   "metadata": {
    "collapsed": false
   },
   "outputs": [
    {
     "name": "stdout",
     "output_type": "stream",
     "text": [
      "Cloning into 'russian_nballs'...\n",
      "remote: Enumerating objects: 22, done.\u001b[K\n",
      "remote: Counting objects: 100% (22/22), done.\u001b[K\n",
      "remote: Compressing objects: 100% (22/22), done.\u001b[K\n",
      "remote: Total 22 (delta 7), reused 0 (delta 0), pack-reused 0\u001b[K\n",
      "Unpacking objects: 100% (22/22), done.\n",
      "Checking connectivity... done.\n"
     ]
    }
   ],
   "source": [
    "! git clone https://github.com/valerie94/russian_nballs"
   ]
  },
  {
   "cell_type": "markdown",
   "metadata": {},
   "source": [
    "Next step is to run the following python file which converts tsv file with word2vec to txt form:"
   ]
  },
  {
   "cell_type": "code",
   "execution_count": 5,
   "metadata": {
    "collapsed": false
   },
   "outputs": [],
   "source": [
    "! python russian_nballs/format_w2v_file.py"
   ]
  },
  {
   "cell_type": "markdown",
   "metadata": {},
   "source": [
    "The file ru_w2v.txt should be created. This file contains word2vec features in the text format."
   ]
  },
  {
   "cell_type": "markdown",
   "metadata": {},
   "source": [
    "To create catcode file and word sense children please run the following python file:"
   ]
  },
  {
   "cell_type": "code",
   "execution_count": 9,
   "metadata": {
    "collapsed": false,
    "scrolled": true
   },
   "outputs": [],
   "source": [
    "! python  russian_nballs/make_russian_dataset.py"
   ]
  },
  {
   "cell_type": "markdown",
   "metadata": {},
   "source": [
    "The files catcode.dat_no_duplicates and children.dat_no_duplicates should be created. The files contain catcode and word sense children for total 15153 words (intersection of words from wordnet and word2vec file)."
   ]
  },
  {
   "cell_type": "markdown",
   "metadata": {},
   "source": [
    "Train Russian nballs by the proccess which is describe [here](https://github.com/gnodisnait/nball4tree). Please git clone the following github project:"
   ]
  },
  {
   "cell_type": "code",
   "execution_count": 7,
   "metadata": {
    "collapsed": false
   },
   "outputs": [
    {
     "name": "stdout",
     "output_type": "stream",
     "text": [
      "Cloning into 'nball4tree'...\n",
      "remote: Enumerating objects: 37, done.\u001b[K\n",
      "remote: Counting objects: 100% (37/37), done.\u001b[K\n",
      "remote: Compressing objects: 100% (25/25), done.\u001b[K\n",
      "remote: Total 165 (delta 17), reused 27 (delta 12), pack-reused 128\u001b[K\n",
      "Receiving objects: 100% (165/165), 1.30 MiB | 658.00 KiB/s, done.\n",
      "Resolving deltas: 100% (76/76), done.\n",
      "Checking connectivity... done.\n"
     ]
    }
   ],
   "source": [
    "! git clone https://github.com/gnodisnait/nball4tree"
   ]
  },
  {
   "cell_type": "markdown",
   "metadata": {},
   "source": [
    "To train nballs please change the lines 418, 517 and 564 in main_training_process.py to initialize first child from entity.n.01 to время.n.3. Or execute the following command which replaces this file:"
   ]
  },
  {
   "cell_type": "code",
   "execution_count": 8,
   "metadata": {
    "collapsed": false
   },
   "outputs": [],
   "source": [
    "! mv russian_nballs/main_training_process.py nball4tree/nball4tree"
   ]
  },
  {
   "cell_type": "markdown",
   "metadata": {},
   "source": [
    "Then train Russian nball on constructed database by the following command:"
   ]
  },
  {
   "cell_type": "code",
   "execution_count": null,
   "metadata": {
    "collapsed": false
   },
   "outputs": [],
   "source": [
    "! python nball4tree/nball.py --train_nball nball.txt --w2v ru_w2v.txt --ws_child children.dat_no_duplicates --ws_catcode catcode.dat_no_duplicates --log log.txt"
   ]
  },
  {
   "cell_type": "markdown",
   "metadata": {},
   "source": [
    "Please note that training process takes more than 6 hours. You can acess the pre-trained model by the following [link](https://drive.google.com/uc?id=1gx2RSBOdf6BNZI5qOPBXz0rMIZyYbI0W&export=download) or by executing the following commands:"
   ]
  },
  {
   "cell_type": "code",
   "execution_count": 9,
   "metadata": {
    "collapsed": false
   },
   "outputs": [
    {
     "name": "stdout",
     "output_type": "stream",
     "text": [
      "File nballs2.tgz is saved to the current directory\n"
     ]
    }
   ],
   "source": [
    "%%script bash\n",
    "export filename=nballs2.tgz\n",
    "export fileid=1gx2RSBOdf6BNZI5qOPBXz0rMIZyYbI0W\n",
    "wget -q --save-cookies cookies.txt 'https://docs.google.com/uc?export=download&id='$fileid -O-      | sed -rn 's/.*confirm=([0-9A-Za-z_]+).*/\\1/p' > confirm.txt\n",
    "wget -q --load-cookies cookies.txt -O $filename      'https://docs.google.com/uc?export=download&id='$fileid'&confirm='$(<confirm.txt)\n",
    "echo -e \"File nballs2.tgz is saved to the current directory\""
   ]
  },
  {
   "cell_type": "markdown",
   "metadata": {},
   "source": [
    "If you don't have time to train nballs, you can use pre-trained model for evaluation. The file has to be extracted from the tar file downloaded above:"
   ]
  },
  {
   "cell_type": "code",
   "execution_count": 34,
   "metadata": {
    "collapsed": false
   },
   "outputs": [
    {
     "name": "stdout",
     "output_type": "stream",
     "text": [
      "nballs2.txt\r\n"
     ]
    }
   ],
   "source": [
    "! tar xvzf nballs2.tgz"
   ]
  },
  {
   "cell_type": "markdown",
   "metadata": {},
   "source": [
    "Let's conduct several experiments for finding the closest neighbors. First word is синий.n.0 (blue):"
   ]
  },
  {
   "cell_type": "code",
   "execution_count": 1,
   "metadata": {
    "collapsed": false
   },
   "outputs": [
    {
     "name": "stdout",
     "output_type": "stream",
     "text": [
      "loading balls....\n",
      "15153  balls are loaded\n",
      "\n",
      "{   'синий.n.0': [   'синий.n.1',\n",
      "                     'оранжевый.n.0',\n",
      "                     'оранжевый.n.1',\n",
      "                     'жёлтый.n.5',\n",
      "                     'жёлтый.n.4',\n",
      "                     'жёлтый.n.1']}\n"
     ]
    }
   ],
   "source": [
    "! python nball4tree/nball.py --neighbors синий.n.0 --ball nballs2.txt --num 6"
   ]
  },
  {
   "cell_type": "markdown",
   "metadata": {},
   "source": [
    "The closest neighbors are синий.n.1 (blue.n.1), оранжевый.n.0 (orange.n.0), оранжевый.n.1 (orange.n.1), жёлтый.n.5 (yellow.n.5), жёлтый.n.4 (yellow.n.4), жёлтый.n.1 (yellow.n.1). As we can see, all neigbors are colors as well.\n",
    "\n",
    "Next test word is март.n.0 (March):"
   ]
  },
  {
   "cell_type": "code",
   "execution_count": 2,
   "metadata": {
    "collapsed": false
   },
   "outputs": [
    {
     "name": "stdout",
     "output_type": "stream",
     "text": [
      "loading balls....\n",
      "15153  balls are loaded\n",
      "\n",
      "{   'март.n.0': [   'ноябрь.n.0',\n",
      "                    'апрель.n.0',\n",
      "                    'июнь.n.0',\n",
      "                    'февраль.n.0',\n",
      "                    'сентябрь.n.0',\n",
      "                    'июль.n.0']}\n"
     ]
    }
   ],
   "source": [
    "! python nball4tree/nball.py --neighbors март.n.0 --ball nballs2.txt --num 6"
   ]
  },
  {
   "cell_type": "markdown",
   "metadata": {},
   "source": [
    "The closest neighbors are: ноябрь.n.0 (November), апрель.n.0 (April), июнь.n.0 (June), февраль.n.0 (February), \n",
    "сентябрь.n.0 (September), июль.n.0 (July), i.e. other monthes.\n",
    "\n",
    "Next test word is кофе.n.0 (coffee):"
   ]
  },
  {
   "cell_type": "code",
   "execution_count": 3,
   "metadata": {
    "collapsed": false
   },
   "outputs": [
    {
     "name": "stdout",
     "output_type": "stream",
     "text": [
      "loading balls....\n",
      "15153  balls are loaded\n",
      "\n",
      "{   'кофе.n.0': [   'кофе.n.2',\n",
      "                    'кофе.n.1',\n",
      "                    'виски.n.0',\n",
      "                    'чай.n.2',\n",
      "                    'чай.n.6',\n",
      "                    'чай.n.0']}\n"
     ]
    }
   ],
   "source": [
    "! python nball4tree/nball.py  --neighbors кофе.n.0 --ball nballs2.txt --num 6"
   ]
  },
  {
   "cell_type": "markdown",
   "metadata": {},
   "source": [
    "The closest neighbors are: кофе.n.2 (coffee.n.2), кофе.n.1 (coffee.n.1), виски.n.0 (whiskey.n.0), чай.n.2 (tea.n.2), чай.n.6 (tea.n.6), чай.n.6 (tea.n.6) which are drinks as well.\n",
    "\n",
    "Another test word is футбол.n.0 (football.n.0):"
   ]
  },
  {
   "cell_type": "code",
   "execution_count": 4,
   "metadata": {
    "collapsed": false
   },
   "outputs": [
    {
     "name": "stdout",
     "output_type": "stream",
     "text": [
      "loading balls....\n",
      "15153  balls are loaded\n",
      "\n",
      "{   'футбол.n.0': [   'теннис.n.0',\n",
      "                      'баскетбол.n.0',\n",
      "                      'бокс.n.4',\n",
      "                      'бокс.n.2',\n",
      "                      'бокс.n.1',\n",
      "                      'бокс.n.3']}\n"
     ]
    }
   ],
   "source": [
    "! python nball4tree/nball.py  --neighbors футбол.n.0  --ball nballs2.txt --num 6"
   ]
  },
  {
   "cell_type": "markdown",
   "metadata": {},
   "source": [
    "The closest neighbors are: теннис.n.0 (tennis.n.0), баскетбол.n.0 (basketball), бокс.n.2 (boxing.n.2), бокс.n.4 (boxing.n.4), бокс.n.3 (boxing.n.3) which are sports as well."
   ]
  }
 ],
 "metadata": {
  "celltoolbar": "Edit Metadata",
  "editable": true,
  "kernelspec": {
   "display_name": "Python 3",
   "language": "python",
   "name": "python3"
  },
  "language_info": {
   "codemirror_mode": {
    "name": "ipython",
    "version": 3
   },
   "file_extension": ".py",
   "mimetype": "text/x-python",
   "name": "python",
   "nbconvert_exporter": "python",
   "pygments_lexer": "ipython3",
   "version": "3.6.0"
  }
 },
 "nbformat": 4,
 "nbformat_minor": 2
}

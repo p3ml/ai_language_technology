{
 "cells": [
  {
   "cell_type": "code",
   "execution_count": null,
   "metadata": {},
   "outputs": [],
   "source": [
    "#this file is used for removing space bwtween lines\n",
    "with open(\"/home/zhanshichen/nball4tree/w2v_new_trans.txt\",\"r\") as f_r:\n",
    "    with open(\"/home/zhanshichen/w2v_2.txt\",\"w\") as f_w:\n",
    "        for line in f_r.readlines():                                  \n",
    "            data=line.strip()\n",
    "            if len(data)!=0:\n",
    "                f_w.write(data)\n",
    "                f_w.write('\\n')"
   ]
  }
 ],
 "metadata": {
  "kernelspec": {
   "display_name": "Python 3",
   "language": "python",
   "name": "python3"
  },
  "language_info": {
   "codemirror_mode": {
    "name": "ipython",
    "version": 3
   },
   "file_extension": ".py",
   "mimetype": "text/x-python",
   "name": "python",
   "nbconvert_exporter": "python",
   "pygments_lexer": "ipython3",
   "version": "3.7.3"
  }
 },
 "nbformat": 4,
 "nbformat_minor": 2
}

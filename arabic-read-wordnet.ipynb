{
 "cells": [
  {
   "cell_type": "markdown",
   "metadata": {},
   "source": [
    "# Read AraWordNet\n",
    "\n",
    "contributed by **Ali Ahmed** \n",
    "\n",
    "A utility file to read **AraWordNet** and provide dictionary to map between the sense and its words.\n",
    "\n",
    "AraWordNet[1][2] could be found at http://globalwordnet.org/resources/arabic-wordnet/.\n",
    "\n",
    "## Prerequisite:\n",
    "- Define `wordnet_path` variable\n",
    "\n",
    "[1] Black W., Elkateb S., Rodriguez H., Alkhalifa M., Vossen P., Pease A., Bertran M., Fellbaum C., (2006) The Arabic WordNet Project, Proceedings of LREC 2006\n",
    "\n",
    "[2] Lahsen Abouenour, Karim Bouzoubaa, Paolo Rosso (2013) On the evaluation and improvement of Arabic WordNet coverage and usability, Language Resources and Evaluation 47(3) pp 891–91"
   ]
  },
  {
   "cell_type": "markdown",
   "metadata": {},
   "source": [
    "## Import and Setup"
   ]
  },
  {
   "cell_type": "code",
   "execution_count": 1,
   "metadata": {},
   "outputs": [],
   "source": [
    "from bs4 import BeautifulSoup\n",
    "from collections import Counter, defaultdict\n",
    "\n",
    "%store -r wordnet_path"
   ]
  },
  {
   "cell_type": "markdown",
   "metadata": {},
   "source": [
    "## Read AraWordNet\n",
    "\n",
    "**AraWordNet** has the following structure which is embedded in XML:\n",
    "- LexicalEntry:\n",
    "  - Lemma. Its properties are: `partOfSpeech` and `writtenForm`. We are interested in the `writtenForm` which shows how the word looks like.\n",
    "  - Sense. Its properties are: `id` and `synset`. We are interested in the `synset` to map between the word and its relations in the WordNet.\n",
    "  - WordForm. Its properties are: `formType` and `writtenForm`. We are not interested in any of these properties.\n",
    "- Synset. Its properties are `baseConcept` and `id`. We are interested in the `id` which maps to the `synset` property in the `Sense` node for every word:\n",
    "  - SynsetRelations\n",
    "    - SynsetRelation. Its properties are `relType` and `targets`. We are interested in both. `relType` shows the relation type (whether its `hypernym`, `hyponym`, .. etc). `targets` maps to the `synset` property in the `Sense` node for every word."
   ]
  },
  {
   "cell_type": "code",
   "execution_count": 2,
   "metadata": {},
   "outputs": [
    {
     "name": "stdout",
     "output_type": "stream",
     "text": [
      "Loading AraWordNet\n"
     ]
    }
   ],
   "source": [
    "print(\"Loading AraWordNet\")\n",
    "wordnet_file = open(wordnet_path).read()\n",
    "wordnet = BeautifulSoup(wordnet_file, \"xml\")"
   ]
  },
  {
   "cell_type": "markdown",
   "metadata": {},
   "source": [
    "## Extracting relations from AraWordNet (AWN)\n",
    "\n",
    "Relation types can be:\n",
    "- `hypernym`: represents a parent to child relationship.\n",
    "- `hyponym`: represents a child to parent relationship.\n",
    "- `has_instance`: represents an object to one of its instances relationship.\n",
    "- `is_instance`: represents an instance to its object relationship.\n",
    "\n",
    "and other relationships that we are not interested in. "
   ]
  },
  {
   "cell_type": "code",
   "execution_count": 3,
   "metadata": {},
   "outputs": [
    {
     "name": "stdout",
     "output_type": "stream",
     "text": [
      "Reading hypernym relations\n"
     ]
    }
   ],
   "source": [
    "print(\"Reading hypernym relations\")\n",
    "relations = []\n",
    "# For every synonym set\n",
    "for synset in wordnet.findAll('Synset'):\n",
    "    # Get its hypernym relations\n",
    "    synset_hypernym_relations = list(filter((lambda relation: relation['relType'] == 'hypernym'), synset.findAll('SynsetRelation')))\n",
    "    for relation in synset_hypernym_relations:\n",
    "        # Construct a pair between each synonym set and its child\n",
    "        relations.append((synset['id'], relation['targets']))"
   ]
  },
  {
   "cell_type": "markdown",
   "metadata": {},
   "source": [
    "### Testing if hypernym relations represent similar relations as hyponym relations\n",
    "\n",
    "If this is true, we can safely ignore the `hyponym` relationship and work with the `hypernym` relationship only."
   ]
  },
  {
   "cell_type": "code",
   "execution_count": 4,
   "metadata": {},
   "outputs": [
    {
     "name": "stdout",
     "output_type": "stream",
     "text": [
      "Test: Are hypernym relations similar to hyponym relations? True\n",
      "Considering hypernym relations only\n"
     ]
    }
   ],
   "source": [
    "hyponym_relations = []\n",
    "# For every synonym set\n",
    "for synset in wordnet.findAll('Synset'):\n",
    "    # Get its hyponym relations\n",
    "    synset_hyponym_relations = list(filter((lambda relation: relation['relType'] == 'hyponym'), synset.findAll('SynsetRelation')))\n",
    "    for relation in synset_hyponym_relations:\n",
    "        # Construct a pair between each synonym set and its parent\n",
    "        hyponym_relations.append((relation['targets'], synset['id']))\n",
    "\n",
    "relations.sort()\n",
    "hyponym_relations.sort()\n",
    "print(\"Test: Are hypernym relations similar to hyponym relations? {}\".format(relations == hyponym_relations))\n",
    "if relations == hyponym_relations: print(\"Considering hypernym relations only\")"
   ]
  },
  {
   "cell_type": "markdown",
   "metadata": {},
   "source": [
    "### We might also consider the is_instance and has_instance"
   ]
  },
  {
   "cell_type": "code",
   "execution_count": 5,
   "metadata": {},
   "outputs": [],
   "source": [
    "has_instance_relations = []\n",
    "# For every synonym set\n",
    "for synset in wordnet.findAll('Synset'):\n",
    "    # Get its has_instance relations\n",
    "    synset_has_instance_relations = list(filter((lambda relation: relation['relType'] == 'has_instance'), synset.findAll('SynsetRelation')))\n",
    "    for relation in synset_has_instance_relations:\n",
    "        # Construct a pair between each synonym set and its instance\n",
    "        has_instance_relations.append((synset['id'], relation['targets']))"
   ]
  },
  {
   "cell_type": "markdown",
   "metadata": {},
   "source": [
    "### Testing if has_instance relations represent similar relations as is_instance relations\n",
    "\n",
    "If this is true, we can again safely ignore the `is_instance` relationship and work with the `has_instance` relationship only."
   ]
  },
  {
   "cell_type": "code",
   "execution_count": 6,
   "metadata": {},
   "outputs": [
    {
     "data": {
      "text/plain": [
       "True"
      ]
     },
     "execution_count": 6,
     "metadata": {},
     "output_type": "execute_result"
    }
   ],
   "source": [
    "is_instance_relations = []\n",
    "# For every synonym set\n",
    "for synset in wordnet.findAll('Synset'):\n",
    "    # Get its is_instance relations\n",
    "    synset_is_instance_relations = list(filter((lambda relation: relation['relType'] == 'is_instance'), synset.findAll('SynsetRelation')))\n",
    "    for relation in synset_is_instance_relations:\n",
    "        # Construct a pair between each synonym set and its object\n",
    "        is_instance_relations.append((relation['targets'], synset['id']))\n",
    "\n",
    "is_instance_relations.sort()\n",
    "has_instance_relations.sort()\n",
    "is_instance_relations == has_instance_relations"
   ]
  },
  {
   "cell_type": "markdown",
   "metadata": {},
   "source": [
    "### Testing if hypernym contains repeated relations\n",
    "\n",
    "We have to remove repeated relations if they exist."
   ]
  },
  {
   "cell_type": "code",
   "execution_count": 7,
   "metadata": {},
   "outputs": [
    {
     "name": "stdout",
     "output_type": "stream",
     "text": [
      "Number of hypernym relations: 19806\n",
      "Contains unique relations only? False\n"
     ]
    }
   ],
   "source": [
    "print(\"Number of hypernym relations: {}\".format(len(relations)))\n",
    "print(\"Contains unique relations only? {}\".format(len(relations) == len(set(hyponym_relations))))"
   ]
  },
  {
   "cell_type": "markdown",
   "metadata": {},
   "source": [
    "### Therefore, We have to consider the set of unique relations ignoring the repeated ones"
   ]
  },
  {
   "cell_type": "code",
   "execution_count": 8,
   "metadata": {},
   "outputs": [
    {
     "name": "stdout",
     "output_type": "stream",
     "text": [
      "Considering unique hypernym relations only\n",
      "Number of unique hypernym relations: 9305\n"
     ]
    }
   ],
   "source": [
    "print(\"Considering unique hypernym relations only\")\n",
    "relations = list(set(relations))\n",
    "print(\"Number of unique hypernym relations: {}\".format(len(relations)))"
   ]
  },
  {
   "cell_type": "markdown",
   "metadata": {},
   "source": [
    "### Testing if we have self- or bi-directional relations, and removing them\n",
    "Self-directional is a relation between the word and itself. Bi-directional is a relation between two words where every one of them is parent `hypernym` of the other. Both relations contain loops and will be problematic when constructing tree for generating catcode and word-sense-children files."
   ]
  },
  {
   "cell_type": "code",
   "execution_count": 9,
   "metadata": {},
   "outputs": [
    {
     "name": "stdout",
     "output_type": "stream",
     "text": [
      "Considering unique uni-directional hypernym relations only\n",
      "Number of unique uni-directional hypernym relations: 9302\n"
     ]
    }
   ],
   "source": [
    "# List for the relations in both directions\n",
    "bi_directional_relations = []\n",
    "# Synset is the sense id for the parent, target is the sense id for the child\n",
    "for synset, target in relations:\n",
    "    # Add a relation between the parent and the child\n",
    "    bi_directional_relations.append((synset, target))\n",
    "    # Add a relation in the other way around\n",
    "    bi_directional_relations.append((target, synset))\n",
    "\n",
    "# Count the number of occurences for each pair. This should be 1 for every pair since we are\n",
    "# considering the unique set of hypernym relations\n",
    "counter = Counter(bi_directional_relations)\n",
    "# If the counter of any pair is more than 1, it should be marked as invalid\n",
    "invalid_relations = list(filter((lambda relation: counter[relation] > 1), bi_directional_relations))\n",
    "print(\"Considering unique uni-directional hypernym relations only\")\n",
    "# Remove the invalid relations\n",
    "relations = list(set(relations) - set(invalid_relations))\n",
    "print(\"Number of unique uni-directional hypernym relations: {}\".format(len(relations)))"
   ]
  },
  {
   "cell_type": "markdown",
   "metadata": {},
   "source": [
    "### Testing if every child is occuring once as a child\n",
    "\n",
    "Child should have only one parent and therefore should occur in the unique uni-directional relations once. If child occur multiple times as child, this means the parents n-balls will have to intersect. As a result, we have to remove the relations containing repeated children."
   ]
  },
  {
   "cell_type": "code",
   "execution_count": 10,
   "metadata": {},
   "outputs": [
    {
     "name": "stdout",
     "output_type": "stream",
     "text": [
      "Number of invalid children: 1763\n"
     ]
    }
   ],
   "source": [
    "children = list(map((lambda relation: relation[1]), relations))\n",
    "counter = Counter(children)\n",
    "invalid_children = list(filter((lambda child: counter[child] > 1), children))\n",
    "\n",
    "print(\"Number of invalid children: {}\".format(len(invalid_children)))"
   ]
  },
  {
   "cell_type": "code",
   "execution_count": 11,
   "metadata": {},
   "outputs": [
    {
     "name": "stdout",
     "output_type": "stream",
     "text": [
      "Number of valid hypernym relations without repeated children: 7177\n"
     ]
    }
   ],
   "source": [
    "relations = list(filter((lambda relation: relation[0] not in invalid_children), relations))\n",
    "relations = list(filter((lambda relation: relation[1] not in invalid_children), relations))\n",
    "print(\"Number of valid hypernym relations without repeated children: {}\".format(len(relations)))"
   ]
  },
  {
   "cell_type": "markdown",
   "metadata": {},
   "source": [
    "### Extract vocabulary\n",
    "\n",
    "Our vocabulary is limited to those words appearing in the valid hypernym relations. We have to extract them as they are providing the written form which is used in the word embedding file. "
   ]
  },
  {
   "cell_type": "code",
   "execution_count": 12,
   "metadata": {},
   "outputs": [
    {
     "name": "stdout",
     "output_type": "stream",
     "text": [
      "Number of synonym set ids: 7622\n"
     ]
    }
   ],
   "source": [
    "# List for synonym set ids \n",
    "synset_ids = []\n",
    "for relation in relations:\n",
    "    # Extract parent synonym set id \n",
    "    synset_ids.append(relation[0])\n",
    "    # Extract child synonym set id\n",
    "    synset_ids.append(relation[1])\n",
    "\n",
    "# Create unique set of synonym set ids extracted from the valid hypernym relations \n",
    "synset_ids = list(set(synset_ids))\n",
    "print(\"Number of synonym set ids: {}\".format(len(synset_ids)))"
   ]
  },
  {
   "cell_type": "code",
   "execution_count": 13,
   "metadata": {},
   "outputs": [
    {
     "name": "stdout",
     "output_type": "stream",
     "text": [
      "Number of unique words: 14391\n"
     ]
    }
   ],
   "source": [
    "# Filter lexical entries which have synonym set id appearing in our list\n",
    "lexical_entries = list(filter((lambda entry: entry.Sense['synset'] in synset_ids), wordnet.findAll('LexicalEntry')))\n",
    "# Extract words that correspond to our synonym set id list. These words form our vocabulary list.\n",
    "words = list(set(map((lambda entry: entry.Lemma['writtenForm']), lexical_entries)))\n",
    "print(\"Number of unique words: {}\".format(len(words)))"
   ]
  },
  {
   "cell_type": "markdown",
   "metadata": {},
   "source": [
    "## Dictinary for synset to words\n",
    "\n",
    "Construct a dictionary for every synonym set id and its set of words. The key is the synonym set id and the value is a list of words. "
   ]
  },
  {
   "cell_type": "code",
   "execution_count": 14,
   "metadata": {},
   "outputs": [],
   "source": [
    "lexical_entries = list(filter((lambda entry: entry.Sense['synset'] in synset_ids), wordnet.findAll('LexicalEntry')))\n",
    "synset_dict = defaultdict(list)\n",
    "for entry in lexical_entries:\n",
    "    written_form = entry.Lemma['writtenForm']\n",
    "    synset_dict[entry.Sense['synset']].append(written_form)"
   ]
  },
  {
   "cell_type": "markdown",
   "metadata": {},
   "source": [
    "<table style=\"width:100%\">\n",
    "  <tr>\n",
    "      <td colspan=\"1\" style=\"text-align:left;background-color:#0071BD;color:white\">\n",
    "        <a rel=\"license\" href=\"http://creativecommons.org/licenses/by-nc/4.0/\">\n",
    "            <img alt=\"Creative Commons License\" style=\"border-width:0;float:left;padding-right:10pt\"\n",
    "                 src=\"https://i.creativecommons.org/l/by-nc/4.0/88x31.png\" />\n",
    "        </a>\n",
    "        &copy; T. Dong, C. Bauckhage<br/>\n",
    "        Licensed under a \n",
    "        <a rel=\"license\" href=\"http://creativecommons.org/licenses/by-nc/4.0/\" style=\"color:white\">\n",
    "            CC BY-NC 4.0\n",
    "        </a>.\n",
    "      </td>\n",
    "      <td colspan=\"2\" style=\"text-align:left;background-color:#66A5D1\">\n",
    "          <b>Acknowledgments:</b>\n",
    "          This material was prepared within the project\n",
    "          <a href=\"http://www.b-it-center.de/b-it-programmes/teaching-material/p3ml/\" style=\"color:black\">\n",
    "              P3ML\n",
    "          </a> \n",
    "          which is funded by the Ministry of Education and Research of Germany (BMBF)\n",
    "          under grant number 01/S17064. The authors gratefully acknowledge this support.\n",
    "      </td>\n",
    "  </tr>\n",
    "</table>"
   ]
  }
 ],
 "metadata": {
  "kernelspec": {
   "display_name": "Python 3",
   "language": "python",
   "name": "python3"
  },
  "language_info": {
   "codemirror_mode": {
    "name": "ipython",
    "version": 3
   },
   "file_extension": ".py",
   "mimetype": "text/x-python",
   "name": "python",
   "nbconvert_exporter": "python",
   "pygments_lexer": "ipython3",
   "version": "3.6.8"
  }
 },
 "nbformat": 4,
 "nbformat_minor": 2
}

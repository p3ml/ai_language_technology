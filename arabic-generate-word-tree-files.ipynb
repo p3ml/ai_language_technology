{
 "cells": [
  {
   "cell_type": "markdown",
   "metadata": {},
   "source": [
    "# Utility: Generate word tree files\n",
    "\n",
     "contributed by **Ali Ahmed** \n",
    "\n",
    "A helper utility to format the output in the generated word tree files.\n",
    "The python package for constructing Arabic n-ball embeddings is located at  <https://github.com/ali-mohamed/nball4tree> \n",
    "\n",
    "**Note:** We have to replace every space for each word since the n-ball code is separating the inputs in the same line based on spaces. We have chosen the word `SPACE` as a substitute for real spaces ` ` as it is self descriptive for space and most importantly it is not occurring in our word dictionary."
   ]
  },
  {
   "cell_type": "markdown",
   "metadata": {},
   "source": [
    "## WordSenseChildren file formatter"
   ]
  },
  {
   "cell_type": "code",
   "execution_count": null,
   "metadata": {},
   "outputs": [],
   "source": [
    "def generate_wordSenseChildren_output(node, children, file):\n",
    "    # Replace the spaces by a word to make the use of n-ball code more convenient \n",
    "    file.write(node.replace(' ', \"SPACE\"))\n",
    "    file.write(' ')\n",
    "    file.write(' '.join(map((lambda node: node.replace(' ', 'SPACE')), children)))\n",
    "    file.write('\\n')"
   ]
  },
  {
   "cell_type": "markdown",
   "metadata": {},
   "source": [
    "## CatCode file formatter"
   ]
  },
  {
   "cell_type": "code",
   "execution_count": null,
   "metadata": {},
   "outputs": [],
   "source": [
    "def generate_catcode_output(node, catcode, file):\n",
    "    # Replace the spaces by a word to make the use of n-ball code more convenient \n",
    "    file.write(node.replace(' ', \"SPACE\"))\n",
    "    file.write(' ')\n",
    "    file.write(' '.join(map(str, catcode)))\n",
    "    file.write('\\n')"
   ]
  },
  {
   "cell_type": "markdown",
   "metadata": {},
   "source": [
    "## Word2Vector file formatter"
   ]
  },
  {
   "cell_type": "code",
   "execution_count": null,
   "metadata": {},
   "outputs": [],
   "source": [
    "def generate_w2v_output(node, w2v, file):\n",
    "    file.write(node.replace(' ', \"SPACE\"))\n",
    "    file.write(' ')\n",
    "    file.write(' '.join(map(str, w2v)))\n",
    "    file.write('\\n')"
   ]
  },
  {
   "cell_type": "markdown",
   "metadata": {},
   "source": [
    "<table style=\"width:100%\">\n",
    "  <tr>\n",
    "      <td colspan=\"1\" style=\"text-align:left;background-color:#0071BD;color:white\">\n",
    "        <a rel=\"license\" href=\"http://creativecommons.org/licenses/by-nc/4.0/\">\n",
    "            <img alt=\"Creative Commons License\" style=\"border-width:0;float:left;padding-right:10pt\"\n",
    "                 src=\"https://i.creativecommons.org/l/by-nc/4.0/88x31.png\" />\n",
    "        </a>\n",
    "        &copy; T. Dong, C. Bauckhage<br/>\n",
    "        Licensed under a \n",
    "        <a rel=\"license\" href=\"http://creativecommons.org/licenses/by-nc/4.0/\" style=\"color:white\">\n",
    "            CC BY-NC 4.0\n",
    "        </a>.\n",
    "      </td>\n",
    "      <td colspan=\"2\" style=\"text-align:left;background-color:#66A5D1\">\n",
    "          <b>Acknowledgments:</b>\n",
    "          This material was prepared within the project\n",
    "          <a href=\"http://www.b-it-center.de/b-it-programmes/teaching-material/p3ml/\" style=\"color:black\">\n",
    "              P3ML\n",
    "          </a> \n",
    "          which is funded by the Ministry of Education and Research of Germany (BMBF)\n",
    "          under grant number 01/S17064. The authors gratefully acknowledge this support.\n",
    "      </td>\n",
    "  </tr>\n",
    "</table>"
   ]
  }
 ],
 "metadata": {
  "kernelspec": {
   "display_name": "Python 3",
   "language": "python",
   "name": "python3"
  },
  "language_info": {
   "codemirror_mode": {
    "name": "ipython",
    "version": 3
   },
   "file_extension": ".py",
   "mimetype": "text/x-python",
   "name": "python",
   "nbconvert_exporter": "python",
   "pygments_lexer": "ipython3",
   "version": "3.6.8"
  }
 },
 "nbformat": 4,
 "nbformat_minor": 2
}

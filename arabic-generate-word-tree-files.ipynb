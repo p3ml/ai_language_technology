{
 "cells": [
  {
   "cell_type": "markdown",
   "metadata": {},
   "source": [
    "# Utility: Generate word tree files\n",
    "\n",
    "A helper utility to format the output in the generated word tree files.\n",
    "\n",
    "**Note:** We have to replace every space for each word since the n-ball code is separating the inputs in the same line based on spaces. We have chosen the word `SPACE` as a substitute for real spaces ` ` as it is self descriptive for space and most importantly it is not occurring in our word dictionary."
   ]
  },
  {
   "cell_type": "markdown",
   "metadata": {},
   "source": [
    "## WordSenseChildren file formatter"
   ]
  },
  {
   "cell_type": "code",
   "execution_count": null,
   "metadata": {},
   "outputs": [],
   "source": [
    "def generate_wordSenseChildren_output(node, children, file):\n",
    "    # Replace the spaces by a word to make the use of n-ball code more convenient \n",
    "    file.write(node.replace(' ', \"SPACE\"))\n",
    "    file.write(' ')\n",
    "    file.write(' '.join(map((lambda node: node.replace(' ', 'SPACE')), children)))\n",
    "    file.write('\\n')"
   ]
  },
  {
   "cell_type": "markdown",
   "metadata": {},
   "source": [
    "## CatCode file formatter"
   ]
  },
  {
   "cell_type": "code",
   "execution_count": null,
   "metadata": {},
   "outputs": [],
   "source": [
    "def generate_catcode_output(node, catcode, file):\n",
    "    # Replace the spaces by a word to make the use of n-ball code more convenient \n",
    "    file.write(node.replace(' ', \"SPACE\"))\n",
    "    file.write(' ')\n",
    "    file.write(' '.join(map(str, catcode)))\n",
    "    file.write('\\n')"
   ]
  },
  {
   "cell_type": "markdown",
   "metadata": {},
   "source": [
    "## Word2Vector file formatter"
   ]
  },
  {
   "cell_type": "code",
   "execution_count": null,
   "metadata": {},
   "outputs": [],
   "source": [
    "def generate_w2v_output(node, w2v, file):\n",
    "    file.write(node.replace(' ', \"SPACE\"))\n",
    "    file.write(' ')\n",
    "    file.write(' '.join(map(str, w2v)))\n",
    "    file.write('\\n')"
   ]
  }
 ],
 "metadata": {
  "kernelspec": {
   "display_name": "Python 3",
   "language": "python",
   "name": "python3"
  },
  "language_info": {
   "codemirror_mode": {
    "name": "ipython",
    "version": 3
   },
   "file_extension": ".py",
   "mimetype": "text/x-python",
   "name": "python",
   "nbconvert_exporter": "python",
   "pygments_lexer": "ipython3",
   "version": "3.6.8"
  }
 },
 "nbformat": 4,
 "nbformat_minor": 2
}

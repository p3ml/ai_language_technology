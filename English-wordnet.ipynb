{
 "cells": [
  {
   "cell_type": "markdown",
   "metadata": {},
   "source": [
    "<h1 style=\"background-color:#0071BD;color:white;text-align:center;padding-top:0.8em;padding-bottom: 0.8em\">\n",
    "English WordNet - A  Symbolic Database for English \n",
    "</h1>\n",
    "\n",
    "# Description of this notebook\n",
    "\n",
    "In this notebook, we will work with the `WordNet` package, starting with some basic operations provided by the `NLTK` package, and ending with a function that extracts a large tree-strcture of hypernym relations among word-senses.\n",
    "\n",
    "We first import `WordNet` from the `NLTK` as follows.\n",
    "\n",
    "<p style=\"background-color:#66A5D1;padding-top:0.2em;padding-bottom: 0.2em\" />"
   ]
  },
  {
   "cell_type": "code",
   "execution_count": 1,
   "metadata": {},
   "outputs": [],
   "source": [
    "from nltk.corpus import wordnet as wn"
   ]
  },
  {
   "cell_type": "markdown",
   "metadata": {},
   "source": [
    "Given a word `w`, we use `wn.synsets(w)` to list all its word-senses."
   ]
  },
  {
   "cell_type": "code",
   "execution_count": 2,
   "metadata": {},
   "outputs": [
    {
     "data": {
      "text/plain": [
       "[Synset('apple.n.01'), Synset('apple.n.02')]"
      ]
     },
     "execution_count": 2,
     "metadata": {},
     "output_type": "execute_result"
    }
   ],
   "source": [
    "wn.synsets('apple')"
   ]
  },
  {
   "cell_type": "markdown",
   "metadata": {},
   "source": [
    "We use `.definition()` and `.examples()` to see defintion and examples of a word-sense"
   ]
  },
  {
   "cell_type": "code",
   "execution_count": 4,
   "metadata": {},
   "outputs": [
    {
     "data": {
      "text/plain": [
       "'fruit with red or yellow or green skin and sweet to tart crisp whitish flesh'"
      ]
     },
     "execution_count": 4,
     "metadata": {},
     "output_type": "execute_result"
    }
   ],
   "source": [
    "apple0, apple1 = wn.synsets('apple')\n",
    "apple0.definition()"
   ]
  },
  {
   "cell_type": "code",
   "execution_count": 5,
   "metadata": {},
   "outputs": [
    {
     "data": {
      "text/plain": [
       "[]"
      ]
     },
     "execution_count": 5,
     "metadata": {},
     "output_type": "execute_result"
    }
   ],
   "source": [
    "apple0.examples()"
   ]
  },
  {
   "cell_type": "markdown",
   "metadata": {},
   "source": [
    "`apple0` does not have any example. Let's try the first word-sense of the word `bank`."
   ]
  },
  {
   "cell_type": "code",
   "execution_count": 6,
   "metadata": {},
   "outputs": [],
   "source": [
    "bank0, *banks = wn.synsets('bank')"
   ]
  },
  {
   "cell_type": "code",
   "execution_count": 7,
   "metadata": {},
   "outputs": [
    {
     "data": {
      "text/plain": [
       "['they pulled the canoe up on the bank',\n",
       " 'he sat on the bank of the river and watched the currents']"
      ]
     },
     "execution_count": 7,
     "metadata": {},
     "output_type": "execute_result"
    }
   ],
   "source": [
    "bank0.examples()"
   ]
  },
  {
   "cell_type": "markdown",
   "metadata": {},
   "source": [
    "We have two sample sentences, in which the word `bank` has the word-sense `bank.n.01`. Next we check its hypernym relations"
   ]
  },
  {
   "cell_type": "code",
   "execution_count": 8,
   "metadata": {},
   "outputs": [
    {
     "data": {
      "text/plain": [
       "[[Synset('entity.n.01'),\n",
       "  Synset('physical_entity.n.01'),\n",
       "  Synset('object.n.01'),\n",
       "  Synset('geological_formation.n.01'),\n",
       "  Synset('slope.n.01'),\n",
       "  Synset('bank.n.01')]]"
      ]
     },
     "execution_count": 8,
     "metadata": {},
     "output_type": "execute_result"
    }
   ],
   "source": [
    "bank0.hypernym_paths()"
   ]
  },
  {
   "cell_type": "markdown",
   "metadata": {},
   "source": [
    "Sometimes, a word-sense has multiple hypernym paths."
   ]
  },
  {
   "cell_type": "code",
   "execution_count": 10,
   "metadata": {},
   "outputs": [
    {
     "data": {
      "text/plain": [
       "[[Synset('entity.n.01'),\n",
       "  Synset('physical_entity.n.01'),\n",
       "  Synset('object.n.01'),\n",
       "  Synset('whole.n.02'),\n",
       "  Synset('natural_object.n.01'),\n",
       "  Synset('plant_part.n.01'),\n",
       "  Synset('plant_organ.n.01'),\n",
       "  Synset('reproductive_structure.n.01'),\n",
       "  Synset('fruit.n.01'),\n",
       "  Synset('edible_fruit.n.01'),\n",
       "  Synset('apple.n.01')],\n",
       " [Synset('entity.n.01'),\n",
       "  Synset('physical_entity.n.01'),\n",
       "  Synset('matter.n.03'),\n",
       "  Synset('solid.n.01'),\n",
       "  Synset('food.n.02'),\n",
       "  Synset('produce.n.01'),\n",
       "  Synset('edible_fruit.n.01'),\n",
       "  Synset('apple.n.01')],\n",
       " [Synset('entity.n.01'),\n",
       "  Synset('physical_entity.n.01'),\n",
       "  Synset('object.n.01'),\n",
       "  Synset('whole.n.02'),\n",
       "  Synset('natural_object.n.01'),\n",
       "  Synset('plant_part.n.01'),\n",
       "  Synset('plant_organ.n.01'),\n",
       "  Synset('reproductive_structure.n.01'),\n",
       "  Synset('fruit.n.01'),\n",
       "  Synset('pome.n.01'),\n",
       "  Synset('apple.n.01')]]"
      ]
     },
     "execution_count": 10,
     "metadata": {},
     "output_type": "execute_result"
    }
   ],
   "source": [
    "apple0.hypernym_paths()"
   ]
  },
  {
   "cell_type": "code",
   "execution_count": 11,
   "metadata": {},
   "outputs": [
    {
     "data": {
      "text/plain": [
       "[Synset('cooking_apple.n.01'),\n",
       " Synset('crab_apple.n.03'),\n",
       " Synset('eating_apple.n.01')]"
      ]
     },
     "execution_count": 11,
     "metadata": {},
     "output_type": "execute_result"
    }
   ],
   "source": [
    "apple0.hyponyms()"
   ]
  },
  {
   "cell_type": "markdown",
   "metadata": {},
   "source": [
    "That is, `cooking_apple.n.01` is a kind of `apple.n.01`. "
   ]
  },
  {
   "cell_type": "code",
   "execution_count": 15,
   "metadata": {},
   "outputs": [],
   "source": [
    "writer0, *writers = wn.synsets('writer')"
   ]
  },
  {
   "cell_type": "code",
   "execution_count": 16,
   "metadata": {},
   "outputs": [
    {
     "data": {
      "text/plain": [
       "Synset('writer.n.01')"
      ]
     },
     "execution_count": 16,
     "metadata": {},
     "output_type": "execute_result"
    }
   ],
   "source": [
    "writer0"
   ]
  },
  {
   "cell_type": "code",
   "execution_count": 17,
   "metadata": {},
   "outputs": [
    {
     "data": {
      "text/plain": [
       "[Synset('aiken.n.01'),\n",
       " Synset('alger.n.01'),\n",
       " Synset('algren.n.01'),\n",
       " Synset('andersen.n.01'),\n",
       " Synset('anderson.n.01'),\n",
       " Synset('aragon.n.01'),\n",
       " Synset('asch.n.01'),\n",
       " Synset('asimov.n.01'),\n",
       " Synset('auchincloss.n.01'),\n",
       " Synset('austen.n.01'),\n",
       " Synset('baldwin.n.01'),\n",
       " Synset('baraka.n.01'),\n",
       " Synset('barth.n.02'),\n",
       " Synset('barthelme.n.01'),\n",
       " Synset('baum.n.01'),\n",
       " Synset('beauvoir.n.01'),\n",
       " Synset('beckett.n.01'),\n",
       " Synset('beerbohm.n.01'),\n",
       " Synset('belloc.n.01'),\n",
       " Synset('bellow.n.02'),\n",
       " Synset('benchley.n.01'),\n",
       " Synset('benet.n.02'),\n",
       " Synset('bierce.n.01'),\n",
       " Synset('boell.n.01'),\n",
       " Synset('bontemps.n.01'),\n",
       " Synset('borges.n.01'),\n",
       " Synset('boswell.n.01'),\n",
       " Synset('boyle.n.01'),\n",
       " Synset('bradbury.n.01'),\n",
       " Synset('bronte.n.01'),\n",
       " Synset('bronte.n.02'),\n",
       " Synset('bronte.n.03'),\n",
       " Synset('browne.n.02'),\n",
       " Synset('buck.n.03'),\n",
       " Synset('bunyan.n.01'),\n",
       " Synset('burgess.n.01'),\n",
       " Synset('burnett.n.01'),\n",
       " Synset('burroughs.n.01'),\n",
       " Synset('burroughs.n.03'),\n",
       " Synset('butler.n.02'),\n",
       " Synset('cabell.n.01'),\n",
       " Synset('caldwell.n.01'),\n",
       " Synset('calvino.n.01'),\n",
       " Synset('camus.n.01'),\n",
       " Synset('canetti.n.01'),\n",
       " Synset('capek.n.01'),\n",
       " Synset('carroll.n.01'),\n",
       " Synset('cather.n.01'),\n",
       " Synset('cervantes.n.01'),\n",
       " Synset('chandler.n.01'),\n",
       " Synset('chateaubriand.n.01'),\n",
       " Synset('cheever.n.01'),\n",
       " Synset('chesterton.n.01'),\n",
       " Synset('chopin.n.02'),\n",
       " Synset('christie.n.01'),\n",
       " Synset('churchill.n.02'),\n",
       " Synset('clemens.n.01'),\n",
       " Synset('cocteau.n.01'),\n",
       " Synset('colette.n.01'),\n",
       " Synset('collins.n.01'),\n",
       " Synset('conan_doyle.n.01'),\n",
       " Synset('conrad.n.01'),\n",
       " Synset('cooper.n.03'),\n",
       " Synset('crane.n.01'),\n",
       " Synset('cummings.n.01'),\n",
       " Synset('day.n.10'),\n",
       " Synset('de_quincey.n.01'),\n",
       " Synset('defoe.n.01'),\n",
       " Synset('dickens.n.02'),\n",
       " Synset('didion.n.01'),\n",
       " Synset('dinesen.n.01'),\n",
       " Synset('doctorow.n.01'),\n",
       " Synset('dos_passos.n.01'),\n",
       " Synset('dostoyevsky.n.01'),\n",
       " Synset('dreiser.n.01'),\n",
       " Synset('du_maurier.n.01'),\n",
       " Synset('du_maurier.n.02'),\n",
       " Synset('dumas.n.01'),\n",
       " Synset('durrell.n.01'),\n",
       " Synset('ehrenberg.n.01'),\n",
       " Synset('eliot.n.02'),\n",
       " Synset('ellison.n.01'),\n",
       " Synset('emerson.n.01'),\n",
       " Synset('farrell.n.01'),\n",
       " Synset('ferber.n.01'),\n",
       " Synset('fielding.n.02'),\n",
       " Synset('fitzgerald.n.02'),\n",
       " Synset('flaubert.n.01'),\n",
       " Synset('fleming.n.01'),\n",
       " Synset('ford.n.04'),\n",
       " Synset('forester.n.01'),\n",
       " Synset('france.n.02'),\n",
       " Synset('franklin.n.02'),\n",
       " Synset('fuentes.n.01'),\n",
       " Synset('gaboriau.n.01'),\n",
       " Synset('galsworthy.n.01'),\n",
       " Synset('gardner.n.02'),\n",
       " Synset('gaskell.n.01'),\n",
       " Synset('geisel.n.01'),\n",
       " Synset('gibran.n.01'),\n",
       " Synset('gide.n.01'),\n",
       " Synset('gjellerup.n.01'),\n",
       " Synset('gogol.n.01'),\n",
       " Synset('golding.n.01'),\n",
       " Synset('goldsmith.n.02'),\n",
       " Synset('gombrowicz.n.01'),\n",
       " Synset('goncourt.n.01'),\n",
       " Synset('goncourt.n.02'),\n",
       " Synset('gordimer.n.01'),\n",
       " Synset('gorky.n.01'),\n",
       " Synset('grahame.n.01'),\n",
       " Synset('grass.n.02'),\n",
       " Synset('graves.n.01'),\n",
       " Synset('greene.n.01'),\n",
       " Synset('grey.n.01'),\n",
       " Synset('grimm.n.01'),\n",
       " Synset('grimm.n.02'),\n",
       " Synset('haggard.n.01'),\n",
       " Synset('haldane.n.03'),\n",
       " Synset('hale.n.03'),\n",
       " Synset('haley.n.02'),\n",
       " Synset('hall.n.06'),\n",
       " Synset('hammett.n.01'),\n",
       " Synset('hamsun.n.01'),\n",
       " Synset('hardy.n.02'),\n",
       " Synset('harris.n.01'),\n",
       " Synset('harris.n.04'),\n",
       " Synset('harte.n.01'),\n",
       " Synset('hasek.n.01'),\n",
       " Synset('hawthorne.n.01'),\n",
       " Synset('hecht.n.01'),\n",
       " Synset('heinlein.n.01'),\n",
       " Synset('heller.n.03'),\n",
       " Synset('hemingway.n.01'),\n",
       " Synset('hesse.n.01'),\n",
       " Synset('heyse.n.01'),\n",
       " Synset('heyward.n.01'),\n",
       " Synset('higginson.n.01'),\n",
       " Synset('hoffmann.n.04'),\n",
       " Synset('holmes.n.03'),\n",
       " Synset('howells.n.01'),\n",
       " Synset('hoyle.n.02'),\n",
       " Synset('hubbard.n.01'),\n",
       " Synset('hughes.n.02'),\n",
       " Synset('hunt.n.03'),\n",
       " Synset('huxley.n.02'),\n",
       " Synset('irving.n.01'),\n",
       " Synset('irving.n.02'),\n",
       " Synset('isherwood.n.01'),\n",
       " Synset('jackson.n.05'),\n",
       " Synset('jacobs.n.01'),\n",
       " Synset('jacobs.n.02'),\n",
       " Synset('james.n.06'),\n",
       " Synset('jensen.n.01'),\n",
       " Synset('johnson.n.01'),\n",
       " Synset('jong.n.01'),\n",
       " Synset('joyce.n.01'),\n",
       " Synset('kafka.n.01'),\n",
       " Synset('keller.n.01'),\n",
       " Synset('kerouac.n.01'),\n",
       " Synset('kesey.n.01'),\n",
       " Synset('kipling.n.01'),\n",
       " Synset('koestler.n.01'),\n",
       " Synset('la_fontaine.n.01'),\n",
       " Synset('la_rochefoucauld.n.01'),\n",
       " Synset('lardner.n.01'),\n",
       " Synset('lawrence.n.02'),\n",
       " Synset('lawrence.n.06'),\n",
       " Synset('le_carre.n.01'),\n",
       " Synset('leonard.n.01'),\n",
       " Synset('lermontov.n.01'),\n",
       " Synset('lessing.n.02'),\n",
       " Synset('lewis.n.05'),\n",
       " Synset('lewis.n.06'),\n",
       " Synset('london.n.02'),\n",
       " Synset('lowry.n.02'),\n",
       " Synset('lyly.n.01'),\n",
       " Synset('lytton.n.01'),\n",
       " Synset('mailer.n.01'),\n",
       " Synset('malamud.n.01'),\n",
       " Synset('malory.n.01'),\n",
       " Synset('malraux.n.01'),\n",
       " Synset('mann.n.02'),\n",
       " Synset('mansfield.n.01'),\n",
       " Synset('manzoni.n.01'),\n",
       " Synset('marquand.n.01'),\n",
       " Synset('marsh.n.03'),\n",
       " Synset('mason.n.03'),\n",
       " Synset('maugham.n.01'),\n",
       " Synset('maupassant.n.01'),\n",
       " Synset('mauriac.n.01'),\n",
       " Synset('maurois.n.01'),\n",
       " Synset('mccarthy.n.01'),\n",
       " Synset('mccullers.n.01'),\n",
       " Synset('mcluhan.n.01'),\n",
       " Synset('melville.n.01'),\n",
       " Synset('merton.n.01'),\n",
       " Synset('michener.n.01'),\n",
       " Synset('miller.n.02'),\n",
       " Synset('milne.n.01'),\n",
       " Synset('mitchell.n.04'),\n",
       " Synset('mitford.n.01'),\n",
       " Synset('mitford.n.02'),\n",
       " Synset('montaigne.n.01'),\n",
       " Synset('montgomery.n.01'),\n",
       " Synset('more.n.01'),\n",
       " Synset('morrison.n.02'),\n",
       " Synset('munro.n.01'),\n",
       " Synset('murdoch.n.02'),\n",
       " Synset('musset.n.01'),\n",
       " Synset('nabokov.n.01'),\n",
       " Synset('nash.n.01'),\n",
       " Synset('nicolson.n.01'),\n",
       " Synset('norris.n.01'),\n",
       " Synset('o'brien.n.01'),\n",
       " Synset('o'connor.n.01'),\n",
       " Synset('o'flaherty.n.01'),\n",
       " Synset('o'hara.n.01'),\n",
       " Synset('oates.n.02'),\n",
       " Synset('ondaatje.n.01'),\n",
       " Synset('orczy.n.01'),\n",
       " Synset('orwell.n.01'),\n",
       " Synset('page.n.03'),\n",
       " Synset('parker.n.02'),\n",
       " Synset('pasternak.n.01'),\n",
       " Synset('paton.n.01'),\n",
       " Synset('percy.n.01'),\n",
       " Synset('petronius.n.01'),\n",
       " Synset('plath.n.01'),\n",
       " Synset('pliny.n.01'),\n",
       " Synset('pliny.n.02'),\n",
       " Synset('poe.n.01'),\n",
       " Synset('porter.n.03'),\n",
       " Synset('porter.n.05'),\n",
       " Synset('post.n.06'),\n",
       " Synset('pound.n.11'),\n",
       " Synset('powys.n.01'),\n",
       " Synset('powys.n.02'),\n",
       " Synset('powys.n.03'),\n",
       " Synset('pyle.n.01'),\n",
       " Synset('pynchon.n.01'),\n",
       " Synset('rand.n.02'),\n",
       " Synset('richler.n.01'),\n",
       " Synset('roberts.n.03'),\n",
       " Synset('roosevelt.n.02'),\n",
       " Synset('roth.n.01'),\n",
       " Synset('rousseau.n.01'),\n",
       " Synset('runyon.n.01'),\n",
       " Synset('rushdie.n.01'),\n",
       " Synset('russell.n.06'),\n",
       " Synset('sade.n.01'),\n",
       " Synset('salinger.n.01'),\n",
       " Synset('sand.n.02'),\n",
       " Synset('sandburg.n.01'),\n",
       " Synset('saroyan.n.01'),\n",
       " Synset('sayers.n.01'),\n",
       " Synset('schiller.n.01'),\n",
       " Synset('scott.n.04'),\n",
       " Synset('service.n.07'),\n",
       " Synset('shaw.n.04'),\n",
       " Synset('shelley.n.01'),\n",
       " Synset('shute.n.01'),\n",
       " Synset('simenon.n.01'),\n",
       " Synset('sinclair.n.01'),\n",
       " Synset('singer.n.03'),\n",
       " Synset('smollett.n.01'),\n",
       " Synset('snow.n.03'),\n",
       " Synset('solzhenitsyn.n.01'),\n",
       " Synset('sontag.n.01'),\n",
       " Synset('spark.n.05'),\n",
       " Synset('spillane.n.01'),\n",
       " Synset('stael.n.01'),\n",
       " Synset('steele.n.01'),\n",
       " Synset('stein.n.02'),\n",
       " Synset('steinbeck.n.01'),\n",
       " Synset('stendhal.n.01'),\n",
       " Synset('stephen.n.01'),\n",
       " Synset('sterne.n.01'),\n",
       " Synset('stevenson.n.01'),\n",
       " Synset('stockton.n.01'),\n",
       " Synset('stoker.n.01'),\n",
       " Synset('stowe.n.01'),\n",
       " Synset('styron.n.01'),\n",
       " Synset('sue.n.01'),\n",
       " Synset('symonds.n.01'),\n",
       " Synset('tagore.n.01'),\n",
       " Synset('tarbell.n.01'),\n",
       " Synset('thackeray.n.01'),\n",
       " Synset('thoreau.n.01'),\n",
       " Synset('tocqueville.n.01'),\n",
       " Synset('toklas.n.01'),\n",
       " Synset('tolkien.n.01'),\n",
       " Synset('tolstoy.n.01'),\n",
       " Synset('trollope.n.01'),\n",
       " Synset('turgenev.n.01'),\n",
       " Synset('undset.n.01'),\n",
       " Synset('untermeyer.n.01'),\n",
       " Synset('updike.n.01'),\n",
       " Synset('van_doren.n.01'),\n",
       " Synset('vargas_llosa.n.01'),\n",
       " Synset('verne.n.01'),\n",
       " Synset('vidal.n.01'),\n",
       " Synset('voltaire.n.01'),\n",
       " Synset('vonnegut.n.01'),\n",
       " Synset('wain.n.01'),\n",
       " Synset('walker.n.02'),\n",
       " Synset('wallace.n.02'),\n",
       " Synset('walpole.n.01'),\n",
       " Synset('walton.n.02'),\n",
       " Synset('ward.n.05'),\n",
       " Synset('warren.n.01'),\n",
       " Synset('waugh.n.01'),\n",
       " Synset('webb.n.01'),\n",
       " Synset('wells.n.01'),\n",
       " Synset('welty.n.01'),\n",
       " Synset('werfel.n.01'),\n",
       " Synset('west.n.05'),\n",
       " Synset('wharton.n.01'),\n",
       " Synset('white.n.04'),\n",
       " Synset('white.n.07'),\n",
       " Synset('wiesel.n.01'),\n",
       " Synset('wilde.n.01'),\n",
       " Synset('wilder.n.01'),\n",
       " Synset('wilson.n.01'),\n",
       " Synset('wilson.n.02'),\n",
       " Synset('wister.n.01'),\n",
       " Synset('wodehouse.n.01'),\n",
       " Synset('wolfe.n.01'),\n",
       " Synset('wolfe.n.02'),\n",
       " Synset('wollstonecraft.n.01'),\n",
       " Synset('wood.n.05'),\n",
       " Synset('woolf.n.01'),\n",
       " Synset('wouk.n.01'),\n",
       " Synset('wright.n.01'),\n",
       " Synset('wright.n.02'),\n",
       " Synset('zangwill.n.01'),\n",
       " Synset('zweig.n.01')]"
      ]
     },
     "execution_count": 17,
     "metadata": {},
     "output_type": "execute_result"
    }
   ],
   "source": [
    "writer0.instance_hyponyms()"
   ]
  },
  {
   "cell_type": "markdown",
   "metadata": {},
   "source": [
    "All these are known writers in `WordNet`. They are `instance hyponyms` of `writer.n.01`."
   ]
  },
  {
   "cell_type": "code",
   "execution_count": 18,
   "metadata": {},
   "outputs": [],
   "source": [
    "asimov01=wn.synset('asimov.n.01')"
   ]
  },
  {
   "cell_type": "code",
   "execution_count": 19,
   "metadata": {},
   "outputs": [
    {
     "data": {
      "text/plain": [
       "[[Synset('entity.n.01'),\n",
       "  Synset('physical_entity.n.01'),\n",
       "  Synset('causal_agent.n.01'),\n",
       "  Synset('person.n.01'),\n",
       "  Synset('communicator.n.01'),\n",
       "  Synset('writer.n.01'),\n",
       "  Synset('asimov.n.01')],\n",
       " [Synset('entity.n.01'),\n",
       "  Synset('physical_entity.n.01'),\n",
       "  Synset('object.n.01'),\n",
       "  Synset('whole.n.02'),\n",
       "  Synset('living_thing.n.01'),\n",
       "  Synset('organism.n.01'),\n",
       "  Synset('person.n.01'),\n",
       "  Synset('communicator.n.01'),\n",
       "  Synset('writer.n.01'),\n",
       "  Synset('asimov.n.01')]]"
      ]
     },
     "execution_count": 19,
     "metadata": {},
     "output_type": "execute_result"
    }
   ],
   "source": [
    "asimov01.hypernym_paths()"
   ]
  },
  {
   "cell_type": "markdown",
   "metadata": {},
   "source": [
    "<table style=\"width:100%\">\n",
    "  <tr>\n",
    "      <td colspan=\"1\" style=\"text-align:left;background-color:#0071BD;color:white\">\n",
    "        <a rel=\"license\" href=\"http://creativecommons.org/licenses/by-nc/4.0/\">\n",
    "            <img alt=\"Creative Commons License\" style=\"border-width:0;float:left;padding-right:10pt\"\n",
    "                 src=\"https://i.creativecommons.org/l/by-nc/4.0/88x31.png\" />\n",
    "        </a>\n",
    "        &copy; T. Dong, C. Bauckhage<br/>\n",
    "        Licensed under a \n",
    "        <a rel=\"license\" href=\"http://creativecommons.org/licenses/by-nc/4.0/\" style=\"color:white\">\n",
    "            CC BY-NC 4.0\n",
    "        </a>.\n",
    "      </td>\n",
    "      <td colspan=\"2\" style=\"text-align:left;background-color:#66A5D1\">\n",
    "          <b>Acknowledgments:</b>\n",
    "          This material was prepared within the project\n",
    "          <a href=\"http://www.b-it-center.de/b-it-programmes/teaching-material/p3ml/\" style=\"color:black\">\n",
    "              P3ML\n",
    "          </a> \n",
    "          which is funded by the Ministry of Education and Research of Germany (BMBF)\n",
    "          under grant number 01/S17064. The authors gratefully acknowledge this support.\n",
    "      </td>\n",
    "  </tr>\n",
    "</table>"
   ]
  }
 ],
 "metadata": {
  "kernelspec": {
   "display_name": "Python 3",
   "language": "python",
   "name": "python3"
  },
  "language_info": {
   "codemirror_mode": {
    "name": "ipython",
    "version": 3
   },
   "file_extension": ".py",
   "mimetype": "text/x-python",
   "name": "python",
   "nbconvert_exporter": "python",
   "pygments_lexer": "ipython3",
   "version": "3.7.2"
  }
 },
 "nbformat": 4,
 "nbformat_minor": 2
}

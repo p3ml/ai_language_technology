{
 "cells": [
  {
   "cell_type": "markdown",
   "metadata": {},
   "source": [
    "<h1 style=\"background-color:#0071BD;color:white;text-align:center;padding-top:0.8em;padding-bottom: 0.8em\">\n",
    "Word Embeddings - A Numerric Building Block of Natural Language Processing \n",
    "</h1>\n",
    "\n",
    "\n",
    "\n",
    "<p style=\"background-color:#66A5D1;padding-top:0.2em;padding-bottom: 0.2em\" />"
   ]
  },
  {
   "cell_type": "markdown",
   "metadata": {},
   "source": [
    "# Description of this notebook\n",
    "\n",
    "Words can be represented by Vectors, so that co-occurrence relations among words in the corpus can be approximated \n",
    "through nummeric measurements, such as the cosine similarity, of their vector representations. \n",
    "\n",
    "In this notebook, we use `gensim` package to describe basic operations of word-embeddings. `Gensim` is a python package for topic modeling (LDA) in Natural Language Processing, and also provides a number of useful tools, such as word-embeddings. \n",
    "\n",
    "We first import `Word2Vec` from `gensim` as follows."
   ]
  },
  {
   "cell_type": "code",
   "execution_count": 3,
   "metadata": {},
   "outputs": [],
   "source": [
    "from gensim.models import Word2Vec"
   ]
  },
  {
   "cell_type": "markdown",
   "metadata": {},
   "source": [
    "`Word2Vec` provides an easy-to-use interface to use `NLTK` corpora (Natural Language Toolkit). We import its movie review corpora and Brown corpoa. "
   ]
  },
  {
   "cell_type": "code",
   "execution_count": 4,
   "metadata": {},
   "outputs": [],
   "source": [
    "from nltk.corpus import movie_reviews, brown"
   ]
  },
  {
   "cell_type": "markdown",
   "metadata": {},
   "source": [
    "Word Vectors representing word co-occurrence relations in movie reviews are easily imported by one Python line"
   ]
  },
  {
   "cell_type": "code",
   "execution_count": 5,
   "metadata": {},
   "outputs": [],
   "source": [
    "reviewVec = Word2Vec(movie_reviews.sents())"
   ]
  },
  {
   "cell_type": "markdown",
   "metadata": {},
   "source": [
    "The top 10 most similar words of `way` in the movie review corpora are listed as follows."
   ]
  },
  {
   "cell_type": "code",
   "execution_count": 17,
   "metadata": {},
   "outputs": [
    {
     "data": {
      "text/plain": [
       "[('situation', 0.7217198610305786),\n",
       " ('audience', 0.6800363063812256),\n",
       " ('viewer', 0.6794217228889465),\n",
       " ('material', 0.6672236919403076),\n",
       " ('things', 0.6663079261779785),\n",
       " ('money', 0.656428337097168),\n",
       " ('thing', 0.6408901214599609),\n",
       " ('place', 0.6369563341140747),\n",
       " ('mind', 0.6345070600509644),\n",
       " ('everything', 0.630621612071991)]"
      ]
     },
     "execution_count": 17,
     "metadata": {},
     "output_type": "execute_result"
    }
   ],
   "source": [
    "reviewVec.wv.most_similar('way', topn=10)"
   ]
  },
  {
   "cell_type": "markdown",
   "metadata": {},
   "source": [
    "We can compare the results of using Brown corpora."
   ]
  },
  {
   "cell_type": "code",
   "execution_count": 18,
   "metadata": {},
   "outputs": [],
   "source": [
    "brownVec = Word2Vec(brown.sents())"
   ]
  },
  {
   "cell_type": "code",
   "execution_count": 19,
   "metadata": {},
   "outputs": [
    {
     "data": {
      "text/plain": [
       "[('place', 0.9372531175613403),\n",
       " ('work', 0.8732692003250122),\n",
       " ('mind', 0.8656002283096313),\n",
       " ('job', 0.864067792892456),\n",
       " ('best', 0.8583147525787354),\n",
       " ('money', 0.8420649170875549),\n",
       " ('trouble', 0.8207899332046509),\n",
       " ('world', 0.8207452297210693),\n",
       " ('play', 0.8187777400016785),\n",
       " ('show', 0.8178919553756714)]"
      ]
     },
     "execution_count": 19,
     "metadata": {},
     "output_type": "execute_result"
    }
   ],
   "source": [
    "brownVec.wv.most_similar('way', topn=10)"
   ]
  },
  {
   "cell_type": "markdown",
   "metadata": {},
   "source": [
    "Co-occurrence relations are determined (or biased) by the corpora. We can compare the results of using Brown corpora."
   ]
  },
  {
   "cell_type": "code",
   "execution_count": 11,
   "metadata": {},
   "outputs": [
    {
     "data": {
      "text/plain": [
       "[('cbs', 0.8808615207672119),\n",
       " ('tragedy', 0.8656440377235413),\n",
       " ('spawn', 0.8623498678207397),\n",
       " ('exorcist', 0.8506960272789001),\n",
       " ('fog', 0.8439337015151978),\n",
       " ('jackal', 0.8435090184211731),\n",
       " ('terror', 0.8384259939193726),\n",
       " ('disco', 0.8361891508102417),\n",
       " ('bottom', 0.8361430764198303),\n",
       " ('daddy', 0.82967609167099)]"
      ]
     },
     "execution_count": 11,
     "metadata": {},
     "output_type": "execute_result"
    }
   ],
   "source": [
    "reviewVec.wv.most_similar('titanic', topn=10)"
   ]
  },
  {
   "cell_type": "markdown",
   "metadata": {},
   "source": [
    "We can compare the results of using Brown corpora."
   ]
  },
  {
   "cell_type": "code",
   "execution_count": 16,
   "metadata": {},
   "outputs": [
    {
     "ename": "KeyError",
     "evalue": "\"word 'titanic' not in vocabulary\"",
     "output_type": "error",
     "traceback": [
      "\u001b[0;31m---------------------------------------------------------------------------\u001b[0m",
      "\u001b[0;31mKeyError\u001b[0m                                  Traceback (most recent call last)",
      "\u001b[0;32m<ipython-input-16-6e566432d9fc>\u001b[0m in \u001b[0;36m<module>\u001b[0;34m()\u001b[0m\n\u001b[0;32m----> 1\u001b[0;31m \u001b[0mbrownVec\u001b[0m\u001b[0;34m.\u001b[0m\u001b[0mwv\u001b[0m\u001b[0;34m.\u001b[0m\u001b[0mmost_similar\u001b[0m\u001b[0;34m(\u001b[0m\u001b[0;34m'titanic'\u001b[0m\u001b[0;34m,\u001b[0m \u001b[0mtopn\u001b[0m\u001b[0;34m=\u001b[0m\u001b[0;36m10\u001b[0m\u001b[0;34m)\u001b[0m\u001b[0;34m\u001b[0m\u001b[0;34m\u001b[0m\u001b[0m\n\u001b[0m",
      "\u001b[0;32m/opt/anaconda3/lib/python3.6/site-packages/gensim/models/keyedvectors.py\u001b[0m in \u001b[0;36mmost_similar\u001b[0;34m(self, positive, negative, topn, restrict_vocab, indexer)\u001b[0m\n\u001b[1;32m    363\u001b[0m                 \u001b[0mmean\u001b[0m\u001b[0;34m.\u001b[0m\u001b[0mappend\u001b[0m\u001b[0;34m(\u001b[0m\u001b[0mweight\u001b[0m \u001b[0;34m*\u001b[0m \u001b[0mword\u001b[0m\u001b[0;34m)\u001b[0m\u001b[0;34m\u001b[0m\u001b[0;34m\u001b[0m\u001b[0m\n\u001b[1;32m    364\u001b[0m             \u001b[0;32melse\u001b[0m\u001b[0;34m:\u001b[0m\u001b[0;34m\u001b[0m\u001b[0;34m\u001b[0m\u001b[0m\n\u001b[0;32m--> 365\u001b[0;31m                 \u001b[0mmean\u001b[0m\u001b[0;34m.\u001b[0m\u001b[0mappend\u001b[0m\u001b[0;34m(\u001b[0m\u001b[0mweight\u001b[0m \u001b[0;34m*\u001b[0m \u001b[0mself\u001b[0m\u001b[0;34m.\u001b[0m\u001b[0mword_vec\u001b[0m\u001b[0;34m(\u001b[0m\u001b[0mword\u001b[0m\u001b[0;34m,\u001b[0m \u001b[0muse_norm\u001b[0m\u001b[0;34m=\u001b[0m\u001b[0;32mTrue\u001b[0m\u001b[0;34m)\u001b[0m\u001b[0;34m)\u001b[0m\u001b[0;34m\u001b[0m\u001b[0;34m\u001b[0m\u001b[0m\n\u001b[0m\u001b[1;32m    366\u001b[0m                 \u001b[0;32mif\u001b[0m \u001b[0mword\u001b[0m \u001b[0;32min\u001b[0m \u001b[0mself\u001b[0m\u001b[0;34m.\u001b[0m\u001b[0mvocab\u001b[0m\u001b[0;34m:\u001b[0m\u001b[0;34m\u001b[0m\u001b[0;34m\u001b[0m\u001b[0m\n\u001b[1;32m    367\u001b[0m                     \u001b[0mall_words\u001b[0m\u001b[0;34m.\u001b[0m\u001b[0madd\u001b[0m\u001b[0;34m(\u001b[0m\u001b[0mself\u001b[0m\u001b[0;34m.\u001b[0m\u001b[0mvocab\u001b[0m\u001b[0;34m[\u001b[0m\u001b[0mword\u001b[0m\u001b[0;34m]\u001b[0m\u001b[0;34m.\u001b[0m\u001b[0mindex\u001b[0m\u001b[0;34m)\u001b[0m\u001b[0;34m\u001b[0m\u001b[0;34m\u001b[0m\u001b[0m\n",
      "\u001b[0;32m/opt/anaconda3/lib/python3.6/site-packages/gensim/models/keyedvectors.py\u001b[0m in \u001b[0;36mword_vec\u001b[0;34m(self, word, use_norm)\u001b[0m\n\u001b[1;32m    272\u001b[0m             \u001b[0;32mreturn\u001b[0m \u001b[0mresult\u001b[0m\u001b[0;34m\u001b[0m\u001b[0;34m\u001b[0m\u001b[0m\n\u001b[1;32m    273\u001b[0m         \u001b[0;32melse\u001b[0m\u001b[0;34m:\u001b[0m\u001b[0;34m\u001b[0m\u001b[0;34m\u001b[0m\u001b[0m\n\u001b[0;32m--> 274\u001b[0;31m             \u001b[0;32mraise\u001b[0m \u001b[0mKeyError\u001b[0m\u001b[0;34m(\u001b[0m\u001b[0;34m\"word '%s' not in vocabulary\"\u001b[0m \u001b[0;34m%\u001b[0m \u001b[0mword\u001b[0m\u001b[0;34m)\u001b[0m\u001b[0;34m\u001b[0m\u001b[0;34m\u001b[0m\u001b[0m\n\u001b[0m\u001b[1;32m    275\u001b[0m \u001b[0;34m\u001b[0m\u001b[0m\n\u001b[1;32m    276\u001b[0m     \u001b[0;32mdef\u001b[0m \u001b[0mget_vector\u001b[0m\u001b[0;34m(\u001b[0m\u001b[0mself\u001b[0m\u001b[0;34m,\u001b[0m \u001b[0mword\u001b[0m\u001b[0;34m)\u001b[0m\u001b[0;34m:\u001b[0m\u001b[0;34m\u001b[0m\u001b[0;34m\u001b[0m\u001b[0m\n",
      "\u001b[0;31mKeyError\u001b[0m: \"word 'titanic' not in vocabulary\""
     ]
    }
   ],
   "source": [
    "brownVec.wv.most_similar('titanic', topn=10)"
   ]
  },
  {
   "cell_type": "markdown",
   "metadata": {},
   "source": [
    "We have an error saying `titanic` is not a vocabulary in the Brown corpora. So, in real applications, we need to train word embeddings of a particular corpora. It is also simple to do this. Suppose we have 5 sentences as follows. "
   ]
  },
  {
   "cell_type": "code",
   "execution_count": 21,
   "metadata": {},
   "outputs": [],
   "source": [
    "snts = [\n",
    "    ['why','do','so','many','egyptian','statues','have','broken','noses'],\n",
    "    ['why','are','the','statues','noses','broken'],\n",
    "    ['it','might','seem','inevitable','that','after','thousands','of','years','an','ancient','artifact','would','show','wear','and','tear'],\n",
    "    ['but','this','simple','observation','led','bleiberg','to','uncover','a','widespread','pattern','of','deliberate','destruction',],\n",
    "    ['which','pointed','to','a','complex','set','of','reasons','why','most','works','of','egyptian','art','came','to','be','defaced','in','the','first','place']\n",
    "]"
   ]
  },
  {
   "cell_type": "markdown",
   "metadata": {},
   "source": [
    "The vector representation of this 5 sentences can be easily trained by the following function call."
   ]
  },
  {
   "cell_type": "code",
   "execution_count": 22,
   "metadata": {},
   "outputs": [],
   "source": [
    "w2vModel = Word2Vec(snts, min_count=1)"
   ]
  },
  {
   "cell_type": "markdown",
   "metadata": {},
   "source": [
    "We can see the top-level features by just using the `print` function. `vocab=55` means that there are 55 words, `size=100` means that the vector size is 100, `alpha` is used for adjusting the training process, its default starting value is 0.025, and decreases linearly after each training epoch."
   ]
  },
  {
   "cell_type": "code",
   "execution_count": 23,
   "metadata": {},
   "outputs": [
    {
     "name": "stdout",
     "output_type": "stream",
     "text": [
      "Word2Vec(vocab=55, size=100, alpha=0.025)\n"
     ]
    }
   ],
   "source": [
    "print(w2vModel)"
   ]
  },
  {
   "cell_type": "markdown",
   "metadata": {},
   "source": [
    "The vocabulary can be accessed and printed out."
   ]
  },
  {
   "cell_type": "code",
   "execution_count": 24,
   "metadata": {},
   "outputs": [],
   "source": [
    "words = list(w2vModel.wv.vocab)"
   ]
  },
  {
   "cell_type": "code",
   "execution_count": 25,
   "metadata": {},
   "outputs": [
    {
     "name": "stdout",
     "output_type": "stream",
     "text": [
      "['why', 'do', 'so', 'many', 'egyptian', 'statues', 'have', 'broken', 'noses', 'are', 'the', 'it', 'might', 'seem', 'inevitable', 'that', 'after', 'thousands', 'of', 'years', 'an', 'ancient', 'artifact', 'would', 'show', 'wear', 'and', 'tear', 'but', 'this', 'simple', 'observation', 'led', 'bleiberg', 'to', 'uncover', 'a', 'widespread', 'pattern', 'deliberate', 'destruction', 'which', 'pointed', 'complex', 'set', 'reasons', 'most', 'works', 'art', 'came', 'be', 'defaced', 'in', 'first', 'place']\n"
     ]
    }
   ],
   "source": [
    "print(words)"
   ]
  },
  {
   "cell_type": "markdown",
   "metadata": {},
   "source": [
    "We can use the following formula to see the vector representation of a word"
   ]
  },
  {
   "cell_type": "code",
   "execution_count": 29,
   "metadata": {},
   "outputs": [
    {
     "name": "stdout",
     "output_type": "stream",
     "text": [
      "[ 0.00427485  0.00441275  0.00255409  0.00202627 -0.00050255  0.0043992\n",
      "  0.00024307  0.00179586 -0.00469578  0.00328591  0.00426067 -0.00166788\n",
      " -0.0010818  -0.00454732 -0.00091164  0.00415865 -0.00497226 -0.00012286\n",
      " -0.00158372  0.00360303  0.00378454  0.00041212 -0.00156512  0.00487666\n",
      " -0.00281729  0.00313119 -0.00121754 -0.00447247 -0.00247222 -0.0041467\n",
      " -0.002423   -0.00465613  0.00069313 -0.00092352 -0.00446304  0.00212158\n",
      " -0.00029413 -0.00080848 -0.00153188  0.00306576 -0.00321749  0.00444297\n",
      "  0.00347846  0.0049444  -0.00486831  0.00334081  0.0009981   0.00037669\n",
      "  0.00211021 -0.00077372  0.000602    0.00145691 -0.00274568 -0.00361109\n",
      " -0.00341518  0.00201899 -0.00357338 -0.00316214  0.00200657  0.00407336\n",
      " -0.00192875  0.00088354  0.00366989 -0.0016534  -0.00230223 -0.00293551\n",
      "  0.00422935  0.00260978 -0.00386803  0.00249948  0.00459697  0.00392524\n",
      " -0.00051083  0.00377159 -0.00112835  0.00255559 -0.00419331 -0.00068565\n",
      "  0.00166335 -0.00353934  0.00047319  0.00461651  0.0033124  -0.0047798\n",
      " -0.00293138  0.00380186 -0.00464948 -0.00239604 -0.00047925 -0.00046764\n",
      " -0.00348316 -0.0011144  -0.00414778  0.00236259 -0.00426648  0.00135169\n",
      " -0.00164727  0.00015503  0.0027319  -0.00059681]\n"
     ]
    }
   ],
   "source": [
    "print(w2vModel.wv['why'])"
   ]
  },
  {
   "cell_type": "markdown",
   "metadata": {},
   "source": [
    "Use the following formula to see the top 10 words with the highest cosine similarity values."
   ]
  },
  {
   "cell_type": "code",
   "execution_count": 30,
   "metadata": {},
   "outputs": [
    {
     "data": {
      "text/plain": [
       "[('have', 0.1572216898202896),\n",
       " ('uncover', 0.15669378638267517),\n",
       " ('thousands', 0.15641911327838898),\n",
       " ('artifact', 0.13198892772197723),\n",
       " ('most', 0.12799394130706787),\n",
       " ('an', 0.11888263374567032),\n",
       " ('the', 0.11818917095661163),\n",
       " ('might', 0.10809456557035446),\n",
       " ('set', 0.10588495433330536),\n",
       " ('which', 0.07290071249008179)]"
      ]
     },
     "execution_count": 30,
     "metadata": {},
     "output_type": "execute_result"
    }
   ],
   "source": [
    "w2vModel.wv.most_similar('noses', topn=10)"
   ]
  },
  {
   "cell_type": "markdown",
   "metadata": {},
   "source": [
    "We can save this model into a file `myModel.bin`, and load this file"
   ]
  },
  {
   "cell_type": "code",
   "execution_count": 31,
   "metadata": {},
   "outputs": [],
   "source": [
    "w2vModel.save('myModel.bin')"
   ]
  },
  {
   "cell_type": "code",
   "execution_count": 32,
   "metadata": {},
   "outputs": [],
   "source": [
    "myModel = Word2Vec.load('myModel.bin')"
   ]
  },
  {
   "cell_type": "code",
   "execution_count": 33,
   "metadata": {},
   "outputs": [
    {
     "name": "stdout",
     "output_type": "stream",
     "text": [
      "Word2Vec(vocab=55, size=100, alpha=0.025)\n"
     ]
    }
   ],
   "source": [
    "print(myModel)"
   ]
  },
  {
   "cell_type": "markdown",
   "metadata": {},
   "source": [
    "To have a better intuition on the co-occurrrence relations among all words, we can plot these vectors into a 2-dimensional space. We first need to reduce their dimensions from 100 to 2 by using `PCA` (Principal Component Analysis) class."
   ]
  },
  {
   "cell_type": "code",
   "execution_count": 34,
   "metadata": {},
   "outputs": [],
   "source": [
    "from sklearn.decomposition import PCA"
   ]
  },
  {
   "cell_type": "code",
   "execution_count": 35,
   "metadata": {},
   "outputs": [],
   "source": [
    "pca = PCA(n_components=2)"
   ]
  },
  {
   "cell_type": "code",
   "execution_count": 37,
   "metadata": {},
   "outputs": [],
   "source": [
    "points2D = pca.fit_transform(w2vModel.wv[w2vModel.wv.vocab])"
   ]
  },
  {
   "cell_type": "markdown",
   "metadata": {},
   "source": [
    "To visualize these points, we use `pyplot` from the `matplotlib` library"
   ]
  },
  {
   "cell_type": "code",
   "execution_count": 38,
   "metadata": {},
   "outputs": [],
   "source": [
    "from matplotlib import pyplot"
   ]
  },
  {
   "cell_type": "code",
   "execution_count": 39,
   "metadata": {},
   "outputs": [
    {
     "data": {
      "text/plain": [
       "<matplotlib.collections.PathCollection at 0x7f7c57dc4eb8>"
      ]
     },
     "execution_count": 39,
     "metadata": {},
     "output_type": "execute_result"
    },
    {
     "data": {
      "image/png": "[encoded data removed]",
      "text/plain": [
       "<Figure size 432x288 with 1 Axes>"
      ]
     },
     "metadata": {},
     "output_type": "display_data"
    }
   ],
   "source": [
    "pyplot.scatter(points2D[:, 0], points2D[:,1])"
   ]
  },
  {
   "cell_type": "markdown",
   "metadata": {},
   "source": [
    "Which word does a point represent? Let us tag them."
   ]
  },
  {
   "cell_type": "code",
   "execution_count": 45,
   "metadata": {},
   "outputs": [
    {
     "data": {
      "image/png": "[encoded data removed]",
      "text/plain": [
       "<Figure size 432x288 with 1 Axes>"
      ]
     },
     "metadata": {},
     "output_type": "display_data"
    }
   ],
   "source": [
    "pyplot.scatter(points2D[:, 0], points2D[:,1])\n",
    "for index, word in enumerate(words):\n",
    "    pyplot.annotate(word, xy=(points2D[index,0], points2D[index,1]))"
   ]
  },
  {
   "cell_type": "markdown",
   "metadata": {},
   "source": [
    "Now, let us a function which accepts a http address as input, extracts all the sentences (tagged by the `contextClass` in the webpage) from the webpage pointed by the address, computes word embeddings, and save them into an output file, plot the result with tagged words.\n",
    "```\n",
    "def computer_words_in_webpage(httpAddress   = 'http://...', \n",
    "                              contextClass  = '',\n",
    "                              outputW2VFile = '/home/user/.../w2vWeb.bin':\n",
    "    \n",
    "```\n",
    "We decompose this process into four steps:\n",
    "* extract the webpage pointed by the http address\n",
    "* transform these texts into a list of sentences, each sentence is a list of tokens\n",
    "* use gensim to train word embeddings\n",
    "* save the result into output file, and plot\n",
    "\n",
    "\n",
    "We use `urllib.request` pacakge to retrieve the webpage pointed by 'https://edition.cnn.com/style/article/egyptian-statues-broken-noses-artsy/index.html', and `BeautifulSoup` package to retrieve texts.\n",
    "\n",
    "### note: make sure that your computer is allowed to access and retrieve webpages"
   ]
  },
  {
   "cell_type": "code",
   "execution_count": 51,
   "metadata": {},
   "outputs": [],
   "source": [
    "import urllib"
   ]
  },
  {
   "cell_type": "code",
   "execution_count": 46,
   "metadata": {},
   "outputs": [],
   "source": [
    "from bs4 import BeautifulSoup"
   ]
  },
  {
   "cell_type": "code",
   "execution_count": null,
   "metadata": {},
   "outputs": [],
   "source": [
    "webpage = ''\n",
    "httpAddress = 'https://edition.cnn.com/style/article/egyptian-statues-broken-noses-artsy/index.html'\n",
    "contextClass = 'Paragraph__component BasicArticle__paragraph BasicArticle__pad'\n",
    "webpage = urllib.request.urlopen(httpAddress).read().decode('utf-8')"
   ]
  },
  {
   "cell_type": "code",
   "execution_count": null,
   "metadata": {},
   "outputs": [],
   "source": [
    "print(len(webpage))"
   ]
  },
  {
   "cell_type": "markdown",
   "metadata": {},
   "source": [
    "It would not print 0. "
   ]
  },
  {
   "cell_type": "code",
   "execution_count": null,
   "metadata": {},
   "outputs": [],
   "source": []
  },
  {
   "cell_type": "markdown",
   "metadata": {},
   "source": [
    "\n",
    "# References\n",
    "\n",
    "* Tomas Mikolov, Kai Chen, Greg Corrado,Jeffrey Dean (2013). Efficient Estimation of Word Representations in Vector Space. CoRR:abs/1301.3781. <a>http://arxiv.org/abs/1301.3781</a> \n",
    "* Jeffrey Pennington, Richard Socher,d Christopher D. Manning (2014). GloVe: Global Vectors for Word Representation. EMNLP-14. <a>https://nlp.stanford.edu/projects/glove/</a>\n",
    "* Omer Levy and Yoav Goldberg (2014). Dependency-Based Word Embeddings. ACL-14. <a>https://levyomer.wordpress.com/2014/04/25/dependency-based-word-embeddings/2</a>\n",
    "\n",
    "<p style=\"background-color:#66A5D1;padding-top:0.2em;padding-bottom: 0.2em\" />"
   ]
  },
  {
   "cell_type": "markdown",
   "metadata": {},
   "source": [
    "<table style=\"width:100%\">\n",
    "  <tr>\n",
    "      <td colspan=\"1\" style=\"text-align:left;background-color:#0071BD;color:white\">\n",
    "        <a rel=\"license\" href=\"http://creativecommons.org/licenses/by-nc/4.0/\">\n",
    "            <img alt=\"Creative Commons License\" style=\"border-width:0;float:left;padding-right:10pt\"\n",
    "                 src=\"https://i.creativecommons.org/l/by-nc/4.0/88x31.png\" />\n",
    "        </a>\n",
    "        &copy; T. Dong, C. Bauckhage<br/>\n",
    "        Licensed under a \n",
    "        <a rel=\"license\" href=\"http://creativecommons.org/licenses/by-nc/4.0/\" style=\"color:white\">\n",
    "            CC BY-NC 4.0\n",
    "        </a>.\n",
    "      </td>\n",
    "      <td colspan=\"2\" style=\"text-align:left;background-color:#66A5D1\">\n",
    "          <b>Acknowledgments:</b>\n",
    "          This material was prepared within the project\n",
    "          <a href=\"http://www.b-it-center.de/b-it-programmes/teaching-material/p3ml/\" style=\"color:black\">\n",
    "              P3ML\n",
    "          </a> \n",
    "          which is funded by the Ministry of Education and Research of Germany (BMBF)\n",
    "          under grant number 01/S17064. The authors gratefully acknowledge this support.\n",
    "      </td>\n",
    "  </tr>\n",
    "</table>"
   ]
  }
 ],
 "metadata": {
  "kernelspec": {
   "display_name": "Python 3",
   "language": "python",
   "name": "python3"
  },
  "language_info": {
   "codemirror_mode": {
    "name": "ipython",
    "version": 3
   },
   "file_extension": ".py",
   "mimetype": "text/x-python",
   "name": "python",
   "nbconvert_exporter": "python",
   "pygments_lexer": "ipython3",
   "version": "3.6.8"
  }
 },
 "nbformat": 4,
 "nbformat_minor": 2
}
